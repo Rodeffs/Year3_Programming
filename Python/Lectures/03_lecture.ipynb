{
 "cells": [
  {
   "cell_type": "markdown",
   "id": "17ecf1db-1d08-4bf3-bd72-870d417ef15f",
   "metadata": {},
   "source": [
    "# Аугментация данных (data augmentation)"
   ]
  },
  {
   "cell_type": "markdown",
   "id": "d80d0b8c-13c1-474c-98d7-612e787272ff",
   "metadata": {},
   "source": [
    "**Аугментация данных** - это методика создания дополнительных данных из имеющихся"
   ]
  },
  {
   "cell_type": "markdown",
   "id": "04ee26c9-e4e4-4aec-a3b7-911893b023ea",
   "metadata": {},
   "source": [
    "## Типы преобразования изображений:\n",
    "\n",
    "1. Геометрические преобразования (увеличение, обрезка, поворот)\n",
    "2. Искажение цвета\n",
    "3. Фильтры\n",
    "4. Смешивание изображений (т.е. изменение интенсивности RGB канала)\n",
    "5. Удаление информации\n",
    "6. Комбинации всего вышеперечисленного"
   ]
  },
  {
   "cell_type": "markdown",
   "id": "b294f11e-faa5-4802-acd8-6950ffa24f7a",
   "metadata": {},
   "source": [
    "## "
   ]
  }
 ],
 "metadata": {
  "kernelspec": {
   "display_name": "Python 3 (ipykernel)",
   "language": "python",
   "name": "python3"
  },
  "language_info": {
   "codemirror_mode": {
    "name": "ipython",
    "version": 3
   },
   "file_extension": ".py",
   "mimetype": "text/x-python",
   "name": "python",
   "nbconvert_exporter": "python",
   "pygments_lexer": "ipython3",
   "version": "3.12.6"
  }
 },
 "nbformat": 4,
 "nbformat_minor": 5
}
