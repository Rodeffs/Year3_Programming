{
 "cells": [
  {
   "cell_type": "markdown",
   "id": "b4b3e8a0-5722-4ad5-bcc5-a174d873e180",
   "metadata": {},
   "source": [
    "# ЛЕКЦИЯ 2 - Работа с графикой"
   ]
  },
  {
   "cell_type": "markdown",
   "id": "67f039cf-a275-4903-bd6b-f4a9327329ce",
   "metadata": {},
   "source": [
    "## Сюда входят:\n",
    "\n",
    "1. Библиотека NumPy - она написанна на C и является одной из самых используемых библиотек\n",
    "2. Библиотека Matplotlib\n",
    "3. Библиотека Seaborn\n",
    "4. Библиотека Plotly"
   ]
  },
  {
   "cell_type": "markdown",
   "id": "88f24017-761f-48c1-8ae8-1059f59e5405",
   "metadata": {},
   "source": [
    "## Есть два типа графики:\n",
    "\n",
    "1. Растровая\n",
    "    - Её разрешение - это dpi, в частности для веб-страниц стандарт 72 dpi, а для принтеров - 600 dpi\n",
    "2. Векторная\n",
    "    - Не имеет разрешения, вместо этого использует математические кривые, которые можно подгонять под любой масштаб"
   ]
  },
  {
   "cell_type": "markdown",
   "id": "7548bef5-51d7-42bf-b456-64257ebd3244",
   "metadata": {},
   "source": [
    "## Примеры растровых форматов:\n",
    "\n",
    "- JPEG - Joint Photographic Expert Group, не имеет прозрачности, использует сжатие с потерями\n",
    "- PNG - Portable Network Graphic, имеет прозрачность в виде альфа-канала, использует сжатие без потерь\n",
    "- GIF - Graphics Interchange Format, имеет ограниченное число цветов, но зато поддерживает анимации\n",
    "- BMP - Bitmap Picture, устаревший формат, имеет весьма примитивную структуру\n",
    "- Webp - придуман Google специально для интернета, гораздо экономичнее JPEG и PNG, поддерживает прозрачность и анимации"
   ]
  },
  {
   "cell_type": "markdown",
   "id": "734f5f3f-ff56-4214-bedc-d8b90b88b5ff",
   "metadata": {},
   "source": [
    "## Примеры векторных форматов:\n",
    "\n",
    "- EPS - Encapsulated Post Script, придуман Adobe, является одним из первых подобных форматов\n",
    "- SVG - Scalable Vector Graphics, поддерживается в самом HTML, а также CSS, поддерживает анимации, но не подходит для печати, т.к. разработан специально под веб\n",
    "- PDF - Portable Document Format, придуман Adobe"
   ]
  }
 ],
 "metadata": {
  "kernelspec": {
   "display_name": "Python 3 (ipykernel)",
   "language": "python",
   "name": "python3"
  },
  "language_info": {
   "codemirror_mode": {
    "name": "ipython",
    "version": 3
   },
   "file_extension": ".py",
   "mimetype": "text/x-python",
   "name": "python",
   "nbconvert_exporter": "python",
   "pygments_lexer": "ipython3",
   "version": "3.12.5"
  }
 },
 "nbformat": 4,
 "nbformat_minor": 5
}
