{
 "cells": [
  {
   "cell_type": "markdown",
   "id": "b4b3e8a0-5722-4ad5-bcc5-a174d873e180",
   "metadata": {},
   "source": [
    "# ЛЕКЦИЯ 2 - Работа с графикой"
   ]
  },
  {
   "cell_type": "markdown",
   "id": "67f039cf-a275-4903-bd6b-f4a9327329ce",
   "metadata": {},
   "source": [
    "## Сюда входят:\n",
    "\n",
    "1. Библиотека NumPy - она написанна на C и является одной из самых используемых библиотек\n",
    "2. Библиотека Matplotlib\n",
    "3. Библиотека Seaborn\n",
    "4. Библиотека Plotly"
   ]
  },
  {
   "cell_type": "markdown",
   "id": "88f24017-761f-48c1-8ae8-1059f59e5405",
   "metadata": {},
   "source": [
    "## Есть два типа графики:\n",
    "\n",
    "1. **Растровая**\n",
    "    - Её разрешение - это dpi, в частности для веб-страниц стандарт 72 dpi, а для принтеров - 600 dpi\n",
    "2. **Векторная**\n",
    "    - Не имеет разрешения, вместо этого использует математические кривые, которые можно подгонять под любой масштаб"
   ]
  },
  {
   "cell_type": "markdown",
   "id": "7548bef5-51d7-42bf-b456-64257ebd3244",
   "metadata": {},
   "source": [
    "## Примеры растровых форматов:\n",
    "\n",
    "- JPEG - Joint Photographic Expert Group, не имеет прозрачности, использует сжатие с потерями\n",
    "- PNG - Portable Network Graphic, имеет прозрачность в виде альфа-канала, использует сжатие без потерь\n",
    "- GIF - Graphics Interchange Format, имеет ограниченное число цветов (256), но зато поддерживает анимации\n",
    "- BMP - Bitmap Picture, устаревший формат, имеет весьма примитивную структуру\n",
    "- Webp - придуман Google специально для интернета, гораздо экономичнее JPEG и PNG, поддерживает прозрачность и анимации"
   ]
  },
  {
   "cell_type": "markdown",
   "id": "734f5f3f-ff56-4214-bedc-d8b90b88b5ff",
   "metadata": {},
   "source": [
    "## Примеры векторных форматов:\n",
    "\n",
    "- EPS - Encapsulated Post Script, придуман Adobe, является одним из первых подобных форматов\n",
    "- SVG - Scalable Vector Graphics, поддерживается в самом HTML, а также CSS, поддерживает анимации, но не подходит для печати, т.к. разработан специально под веб\n",
    "- PDF - Portable Document Format, придуман Adobe"
   ]
  },
  {
   "cell_type": "markdown",
   "id": "2e87553b-18a1-43e7-ad04-b17365ab19ca",
   "metadata": {
    "editable": true,
    "slideshow": {
     "slide_type": ""
    },
    "tags": []
   },
   "source": [
    "## Цветовые модели\n",
    "\n",
    "Делится на две части:\n",
    "\n",
    "1. **Аппаратно зависимая**\n",
    "   - Аддитивная (RGB, HSL)\n",
    "   - Субтрактивная (CMY, CMYK)\n",
    "2. **Аппаратно независимая**\n",
    "   - LAB"
   ]
  },
  {
   "cell_type": "markdown",
   "id": "f5a3db74-d384-4f0f-a362-8189532e4625",
   "metadata": {},
   "source": [
    "## Законы Грассмана:\n",
    "\n",
    "1. Каждый цвет можно задать тремя линейно независимыми цветами\n",
    "2. **Закон Непрерывности** - при непрерывном излучении света, цвет также будет изменяться непрерывно\n",
    "3. **Закон Аддитивности** - цвет смеси излучений зависит от цвета, а не от спектрального состава"
   ]
  },
  {
   "cell_type": "markdown",
   "id": "595559a6-5415-4a87-a9a8-f294d5b13729",
   "metadata": {},
   "source": [
    "## Субтрактивные цветовые модели\n",
    "\n",
    "CMY основан на вычитании цветов из белого (cyan, magenta, yellow)\n",
    "\n",
    "CMYK аналогичен, только добавлен чёрный цвет (cyan, magenta, yellow, k - яркость, т.е. чёрный)"
   ]
  },
  {
   "cell_type": "markdown",
   "id": "fdd96a22-f123-465b-bd0b-2d89f2349688",
   "metadata": {},
   "source": [
    "## Аддитивные цветовые модели\n",
    "\n",
    "HSL - Hue Saturation Lightness, это круговая модель"
   ]
  },
  {
   "cell_type": "markdown",
   "id": "e3f6a3be-3484-4586-aeb7-d27a55b5aa07",
   "metadata": {},
   "source": [
    "## LAB\n",
    "\n",
    "Это чисто математическая модель\n",
    "\n",
    "Матрица - Чёрно-Белое изображение\n",
    "\n",
    "Тензор - Цветное изображение, содержит в себе 3 матрицы для отдельных цветов - красного, зелёного и синего\n",
    "\n",
    "![tenzor](~/Year3_Programming/Python/Lectures/.extras/02_01.png \"tenzor\")"
   ]
  },
  {
   "cell_type": "markdown",
   "id": "19e9099e-cb0a-47bb-afd6-e0babea894ee",
   "metadata": {},
   "source": [
    "## Библиотеки для работы с изображениями:\n",
    "\n",
    "* PIL/Pillow\n",
    "* pgmagick\n",
    "* skikit-image - для изображений\n",
    "* skikit-learn - посвящена машинному обучению\n",
    "* OpenCV-Python\n",
    "* Scipy"
   ]
  },
  {
   "cell_type": "code",
   "execution_count": null,
   "id": "e31bfab1-578f-409d-9dc5-bd7df9718b3a",
   "metadata": {},
   "outputs": [],
   "source": [
    "# Работа с Pillow\n",
    "\n",
    "from PIL import Image  # импортирование\n",
    "\n",
    "\n",
    "with Image open('test.jpg') as img:\n",
    "\n",
    "    img.load()  # загрузка в память\n",
    "    img.show()  # показать изображение\n",
    "    img.format()  # данные об изображении\n",
    "    img.size()  # его размер\n",
    "    img.mode()  # тип цветовой модели\n",
    "\n",
    "    crop_image = img.crop(100, 100, 350, 200)  # для обрезания изображения, координаты начала, а потом координаты конца\n",
    "\n",
    "    img.transpose()  # повороты изображения на 90 градусов, отражение и т.д."
   ]
  }
 ],
 "metadata": {
  "kernelspec": {
   "display_name": "Python 3 (ipykernel)",
   "language": "python",
   "name": "python3"
  },
  "language_info": {
   "codemirror_mode": {
    "name": "ipython",
    "version": 3
   },
   "file_extension": ".py",
   "mimetype": "text/x-python",
   "name": "python",
   "nbconvert_exporter": "python",
   "pygments_lexer": "ipython3",
   "version": "3.12.5"
  }
 },
 "nbformat": 4,
 "nbformat_minor": 5
}
