{
 "cells": [
  {
   "cell_type": "markdown",
   "id": "5be5f609-d4b1-49ca-bf09-280d1c4c982d",
   "metadata": {},
   "source": [
    "# Лекция 9 - Базы данных"
   ]
  },
  {
   "cell_type": "markdown",
   "id": "a450c656-dfb1-4da7-9da3-d69d7492b6c2",
   "metadata": {},
   "source": [
    "БЗ (Бизнес задача) -> АД (Анализ данных) -> DS (Data Science)\n",
    "\n",
    "Таблицы (MS Excel) -> БД -> СУБД"
   ]
  },
  {
   "cell_type": "markdown",
   "id": "80c90c11-c6d2-44a1-97c4-bce696762e01",
   "metadata": {},
   "source": [
    "## SQL\n",
    "\n",
    "Диалекты SQL: T-SQL, PL/SQL, PL/pgSQL\n",
    "\n",
    "* Некоторые команды БД:\n",
    "    + DDL (структура):\n",
    "        - CREATE,\n",
    "        - ALTER,\n",
    "        - DROP\n",
    "    + DML (манипуляция):\n",
    "        - SELECT,\n",
    "        - INSERT,\n",
    "        - UPDATE,\n",
    "        - DELETE\n",
    "    + DCL (контроль):\n",
    "        - GRANT,\n",
    "        - REVOKE"
   ]
  },
  {
   "cell_type": "markdown",
   "id": "e4173dc7-9c65-46d0-aa01-e8651f1ab3a2",
   "metadata": {},
   "source": [
    "## Структура БД\n",
    "\n",
    "* Поле (Field) - колонка таблицы\n",
    "* Запись (Record) - строка таблицы\n",
    "* Ограничения:\n",
    "    - NOT NULL,\n",
    "    - DEFAULT,\n",
    "    - UNIQUE,\n",
    "    - PRIMARY KEY,\n",
    "    - FOREIGN KEY,\n",
    "    - CHECK,\n",
    "    - INDEX"
   ]
  },
  {
   "cell_type": "markdown",
   "id": "a45113ec-8197-4746-9654-d58431452fbd",
   "metadata": {},
   "source": [
    "## SQLite\n",
    "\n",
    "Клиет <-> Среда передачи <-> Сервер\n",
    "\n",
    "* Типы:\n",
    "    - INTEGER,\n",
    "    - REAL (float),\n",
    "    - TEXT,\n",
    "    - BLOB (бинарный)\n",
    "* Программы для работы:\n",
    "    - SQLiteStudio,\n",
    "    - SQLiteManager"
   ]
  },
  {
   "cell_type": "code",
   "execution_count": null,
   "id": "c8652163-cd06-4c5b-9fc8-1be9b7c7c678",
   "metadata": {},
   "outputs": [],
   "source": [
    "## Пример работы в Python\n",
    "\n",
    "import sqlite3 as sq\n",
    "\n",
    "conn = sq.connect(\"orders.db\")\n",
    "\n",
    "cur = conn.cursor()\n",
    "\n",
    "cur.execute(\"SQL command\")\n",
    "\n",
    "result = cur.fetchone() # cur.fetchmany()\n",
    "\n",
    "conn.commit()\n",
    "\n",
    "conn.close()"
   ]
  },
  {
   "cell_type": "markdown",
   "id": "59f13f7f-a2d9-4189-87f1-e9fa3aecaa22",
   "metadata": {},
   "source": [
    "## Пример команды\n",
    "\n",
    "INSERT INTO users(userid, fname, lname, city)\n",
    "\n",
    "VALUES(\"0001\", \"Alex\", \"Dow\", \"NY\")"
   ]
  }
 ],
 "metadata": {
  "kernelspec": {
   "display_name": "Python 3 (ipykernel)",
   "language": "python",
   "name": "python3"
  },
  "language_info": {
   "codemirror_mode": {
    "name": "ipython",
    "version": 3
   },
   "file_extension": ".py",
   "mimetype": "text/x-python",
   "name": "python",
   "nbconvert_exporter": "python",
   "pygments_lexer": "ipython3",
   "version": "3.12.7"
  }
 },
 "nbformat": 4,
 "nbformat_minor": 5
}
