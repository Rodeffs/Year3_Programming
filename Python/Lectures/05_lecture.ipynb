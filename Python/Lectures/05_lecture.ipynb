{
 "cells": [
  {
   "cell_type": "markdown",
   "id": "fc5c5f9d-712d-4409-b478-04dc5a80bc8c",
   "metadata": {},
   "source": [
    "# ЛЕКЦИЯ 5 - Звук"
   ]
  },
  {
   "cell_type": "markdown",
   "id": "7d767234-b800-4302-a4dc-55b1e90eafc3",
   "metadata": {},
   "source": [
    "## Аналоговые и цифровые сигналы\n",
    "\n",
    "*Тут было ещё что-то*\n",
    "\n",
    "DSP - цифровая обработка сигнала"
   ]
  },
  {
   "cell_type": "markdown",
   "id": "eed1cc1f-32c6-477f-98bb-50d7a2a3d8d1",
   "metadata": {},
   "source": [
    "## Звук\n",
    "\n",
    "Это распространение упругих волн в газообразной среде"
   ]
  },
  {
   "cell_type": "markdown",
   "id": "5975b25f-aeca-4bb1-a657-c5271b2e4669",
   "metadata": {},
   "source": [
    "## Физические параметры звука\n",
    "\n",
    "* Спектр - распределение звуковой энергии по частоте (вспомнить что такое дельта-функция и преобразование Фурье)\n",
    "* Интенсивность (сила) звука\n",
    "* Длительность звука\n",
    "* Скорость распространения в среде\n",
    "* Громкость звука (субъективное восприятие)"
   ]
  },
  {
   "cell_type": "markdown",
   "id": "ce15771b-bb1d-477d-b883-af3e5f22e2f5",
   "metadata": {},
   "source": [
    "## Цифровой звук (оцифровка)\n",
    "\n",
    "АЦП - аналоговое-цифровое преобразование (ADC)\n",
    "\n",
    "ЦАП - цифровое-аналоговое преобразование (DAC) - обратное\n",
    "\n",
    "Оцифровка - это процесс дискритезации\n",
    "\n",
    "- Импульсно-кодовая модуляция\n",
    "- Сигма-дельта модуляция"
   ]
  },
  {
   "cell_type": "markdown",
   "id": "899205c3-bab0-480f-a48b-83efc4e3a608",
   "metadata": {},
   "source": [
    "## Дискретизация\n",
    "\n",
    "Популярные частоты в музыке: 44,1 кГц и 48 кГц\n",
    "\n",
    "Битрейт = частота дискретизации * разрядность * кол-во каналов"
   ]
  },
  {
   "cell_type": "markdown",
   "id": "3b6e2ef4-5001-46a2-ab6d-83b133dc1fe1",
   "metadata": {},
   "source": [
    "## Форматы -звуковых файлов\n",
    "\n",
    "1. Аудио без сжатия\n",
    "    * WAV/WAVE - 44,1 кГц / 16 бит\n",
    "    * Aiff - 44,1 кГц / 16 бит\n",
    "3. Сжатие без потерь\n",
    "    * FLAC (Free Lossless Audio Codec) - сжатие от 1,5 до 3,3; битрейт 400-800 кбит/с; 20-50 МБ на 5 минут записи\n",
    "    * APE\n",
    "    * ALAC (Apple Lossless Audio Codec) - до 384 кГц / 32 бит\n",
    "5. Сжатие с потерями\n",
    "    * MPEG Audio Layer 3 (MP3) - 32-320 кбит/с, 48 кГц\n",
    "    * AAC - Advanced Audio Coding от Apple - 128/192/256 кбит/с, 96 кГц\n",
    "    * OGG - Vorbis/Opus - 2-192 кГц | 32 бит и 1-1000 кбит/с"
   ]
  },
  {
   "cell_type": "markdown",
   "id": "e2ff90bc-b85c-4a3d-a3e3-1ceeb5925bb1",
   "metadata": {},
   "source": [
    "## Библиотеки Python для работы со звуком"
   ]
  }
 ],
 "metadata": {
  "kernelspec": {
   "display_name": "Python 3 (ipykernel)",
   "language": "python",
   "name": "python3"
  },
  "language_info": {
   "codemirror_mode": {
    "name": "ipython",
    "version": 3
   },
   "file_extension": ".py",
   "mimetype": "text/x-python",
   "name": "python",
   "nbconvert_exporter": "python",
   "pygments_lexer": "ipython3",
   "version": "3.12.6"
  }
 },
 "nbformat": 4,
 "nbformat_minor": 5
}
