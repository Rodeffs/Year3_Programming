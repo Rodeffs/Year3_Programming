{
 "cells": [
  {
   "cell_type": "markdown",
   "id": "4a0d036c-75f8-40ff-821b-9f9fee01be2d",
   "metadata": {},
   "source": [
    "# Сериализация"
   ]
  },
  {
   "cell_type": "markdown",
   "id": "5e96d144-d604-4399-a45e-950ac0af53e0",
   "metadata": {},
   "source": [
    "## Определение\n",
    "\n",
    "Это способ преобразования структуры данных в линейную форму, которую можно сохранить или передать по сети\n",
    "\n",
    "Иное название - marshalling"
   ]
  },
  {
   "cell_type": "markdown",
   "id": "ea7b2e9a-17c3-47d7-aa8f-19cc0a2cbee4",
   "metadata": {},
   "source": [
    "## Форматы сериализации\n",
    "\n",
    "* Текстовые (XML, JSON, YAML, CSV) - имеют схему документа\n",
    "* Бинарные"
   ]
  },
  {
   "cell_type": "markdown",
   "id": "e8b01ca3-13db-4fd4-9668-06c64f9326ac",
   "metadata": {},
   "source": [
    "## Библиотеки Python\n",
    "\n",
    "* marhsal\n",
    "* json\n",
    "* yml\n",
    "* pickle\n",
    "\n",
    "### pickle:\n",
    "\n",
    "Для сериализации:\n",
    ".dump\n",
    ".dumps\n",
    "\n",
    "Для десериализации:\n",
    ".load\n",
    ".loads"
   ]
  },
  {
   "cell_type": "code",
   "execution_count": null,
   "id": "4d420113-2158-4103-b6a0-875d1524f65b",
   "metadata": {},
   "outputs": [],
   "source": [
    "# Пример 1\n",
    "\n",
    "import pickle\n",
    "\n",
    "class example_class:\n",
    "    a_number = 35\n",
    "    a_string = \"hey\"\n",
    "    a_list = [1, 2, 3]\n",
    "    a_dict = {\"first\": \"1\", \"second\": \"2\"}\n",
    "    a_tuple = (2, 3, 4)\n",
    "\n",
    "my_object = example_class()\n",
    "\n",
    "picked_obj = pickle.dumps(my_object)\n",
    "\n",
    "print(f\"This picked object:\\n{picked_obj}\")\n",
    "\n",
    "my_object.dict = None\n",
    "\n",
    "unpicked_obj = pickle.loads(picked_obj)"
   ]
  },
  {
   "cell_type": "code",
   "execution_count": null,
   "id": "e43c9ff5-aaba-4c32-9680-5dd1698e189d",
   "metadata": {},
   "outputs": [],
   "source": [
    "# Пример 2\n",
    "\n",
    "import pickle\n",
    "\n",
    "data = {...}\n",
    "\n",
    "with open(\"data.pickled\", \"wb\") as file:\n",
    "    pickle.dump(data, file)\n",
    "\n",
    "# При чтении \"wb\" => \"rb\", а dump => load"
   ]
  },
  {
   "cell_type": "markdown",
   "id": "471be9e6-d838-4c1d-8ff2-b71c4ec8891d",
   "metadata": {},
   "source": [
    "## Несериализированные объекты\n",
    "\n",
    "1. С большой вложенностью\n",
    "2. Лямбда-функции\n",
    "3. Генераторы\n",
    "4. Модули\n",
    "5. Файловые объекты\n",
    "6. Сетевые объекты\n",
    "7. Подключения к базам данных\n",
    "8. Фреймы стека"
   ]
  },
  {
   "cell_type": "code",
   "execution_count": null,
   "id": "de2d02ae-9c4a-4152-a758-30d70e09a508",
   "metadata": {},
   "outputs": [],
   "source": [
    "# Пример 3\n",
    "\n",
    "import pickle, dill\n",
    "\n",
    "square = lambda x: x*x\n",
    "\n",
    "my_pickle = pickle.dumps(square) # выдаст ошибку\n",
    "\n",
    "my_dill = dill.dumps(square) # сработает"
   ]
  },
  {
   "cell_type": "code",
   "execution_count": null,
   "id": "80ce7f84-b65c-472f-a5a4-2ea42c2b6dc5",
   "metadata": {},
   "outputs": [],
   "source": [
    "# Пример 4 - интерактивная оболочка\n",
    "\n",
    "# Сохранение сессии\n",
    ">>> square = lambda x: x*x\n",
    ">>> a = square(100)\n",
    ">>> import math\n",
    ">>> b = sqrt(a)\n",
    ">>> import dill\n",
    ">>> dill.dump_session(\"test.pke\")\n",
    ">>> exit\n",
    "\n",
    "# Загрузка сессии:\n",
    ">>> import dill\n",
    ">>> dill.load_session"
   ]
  },
  {
   "cell_type": "code",
   "execution_count": null,
   "id": "983f3260-8639-4472-8ecc-3ebb28bb3f17",
   "metadata": {},
   "outputs": [],
   "source": [
    "# Пример 5\n",
    "\n",
    "import pickle\n",
    "\n",
    "class foobar:\n",
    "    def __init__(self):\n",
    "        self.a = 35\n",
    "        self.b = \"test\"\n",
    "        self.c = lambda x: x*x\n",
    "        \n",
    "    def __getstate__(self):\n",
    "        attributes = self.__dict__.copy()\n",
    "        del attributes['c']\n",
    "        return attributes"
   ]
  },
  {
   "cell_type": "code",
   "execution_count": null,
   "id": "e87e092e-1f9d-495b-8c3c-3edc47d01d20",
   "metadata": {},
   "outputs": [],
   "source": [
    "# Пример 6\n",
    "\n",
    "import pickle\n",
    "\n",
    "class foobar:\n",
    "    def __init__(self):\n",
    "        self.a = 35\n",
    "        self.b = \"test\"\n",
    "        self.c = lambda x: x*x\n",
    "\n",
    "    def __setstate__(self, state):\n",
    "        self.__dict__ = state\n",
    "        self.c = lambda x: x*x"
   ]
  },
  {
   "cell_type": "markdown",
   "id": "f3fb9d22-e289-4ef2-8ba6-0568f3557654",
   "metadata": {},
   "source": [
    "## Цифровые подписи\n",
    "\n",
    "Нужны для того, чтобы проверять код и не запускать вредоносный код\n",
    "\n",
    "* hashlib\n",
    "* hmac"
   ]
  },
  {
   "cell_type": "code",
   "execution_count": null,
   "id": "a91e53cf-8147-400e-bef4-84c675fd4e51",
   "metadata": {},
   "outputs": [],
   "source": [
    "# Сжатие данных\n",
    "\n",
    "import bz2\n",
    "\n",
    "pickled = _.dumps()\n",
    "\n",
    "copressed = bz2.compress(pickled)"
   ]
  }
 ],
 "metadata": {
  "kernelspec": {
   "display_name": "Python 3 (ipykernel)",
   "language": "python",
   "name": "python3"
  },
  "language_info": {
   "codemirror_mode": {
    "name": "ipython",
    "version": 3
   },
   "file_extension": ".py",
   "mimetype": "text/x-python",
   "name": "python",
   "nbconvert_exporter": "python",
   "pygments_lexer": "ipython3",
   "version": "3.12.7"
  }
 },
 "nbformat": 4,
 "nbformat_minor": 5
}
