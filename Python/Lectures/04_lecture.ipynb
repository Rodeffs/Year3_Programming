{
 "cells": [
  {
   "cell_type": "markdown",
   "id": "d27271fe-5552-46bd-9d97-c5d7d4f7844d",
   "metadata": {},
   "source": [
    "# ЛЕКЦИЯ 4 - Работа с видео"
   ]
  },
  {
   "cell_type": "markdown",
   "id": "aeefa856-67a5-4eb0-ae40-9444d2e7ba6a",
   "metadata": {},
   "source": [
    "## Определения\n",
    "\n",
    "**Видео** - последовательность из n кадров * время\n",
    "\n",
    "**FPS** = n/время - кол-во кадров в секунду\n",
    "\n",
    "Также, как и изображение, имеет ширину, высоту и глубину бит\n",
    "\n",
    "Отличительный параметр - **битрейт** = ширина * высота * глубина * FPS\n",
    "\n",
    "Видео = изображение + аудио + субтитры\n",
    "\n",
    "Расширение видео файла (**контейнер**) определяет как составляющие видео упакованы"
   ]
  },
  {
   "cell_type": "markdown",
   "id": "ba922457-b87a-4479-890a-553a8c6ad825",
   "metadata": {},
   "source": [
    "## Форматы\n",
    "\n",
    "* SD (Standard Definition) - самый низкий формат, разрешения 640x480 и 720x576, соотношение 4:3\n",
    "* HD (High Definition) - разрешение 1280x720, соотношение 16:9\n",
    "* FullHD - 1920x1080, соотношение 16:9\n",
    "* 2k UHD - 2048x1080, соотношение 16:9\n",
    "* 4k UHD - 3840x2160, соотношение 16:9\n",
    "* 8k UHD - 7680x4320, соотношение 16:9"
   ]
  },
  {
   "cell_type": "markdown",
   "id": "5353aad7-734a-45f8-96a3-73dc56b72344",
   "metadata": {},
   "source": [
    "## Кодеки и контейнеры\n",
    "\n",
    "* MP4 (MPEG-4 part14), здесь MP4 - *контейнер*, а MPEG-4 - *кодек*; это самый популярный формат\n",
    "* MOV - формат Apple\n",
    "* MKV - Matroshka, это открытый формат\n",
    "* AVI (Audio Video Interleave) - формат Microsoft для аудио и видео\n",
    "* 3GP - используется в мобильной среде"
   ]
  }
 ],
 "metadata": {
  "kernelspec": {
   "display_name": "Python 3 (ipykernel)",
   "language": "python",
   "name": "python3"
  },
  "language_info": {
   "codemirror_mode": {
    "name": "ipython",
    "version": 3
   },
   "file_extension": ".py",
   "mimetype": "text/x-python",
   "name": "python",
   "nbconvert_exporter": "python",
   "pygments_lexer": "ipython3",
   "version": "3.12.6"
  }
 },
 "nbformat": 4,
 "nbformat_minor": 5
}
