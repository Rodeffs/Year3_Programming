{
 "cells": [
  {
   "cell_type": "markdown",
   "id": "d3c21936-5885-49a5-86d9-287f8a317a78",
   "metadata": {},
   "source": [
    "# Лекция 7 - XML"
   ]
  },
  {
   "cell_type": "markdown",
   "id": "92e234d0-dd1e-4ebb-aaad-44a50dcab8ee",
   "metadata": {},
   "source": [
    "XML - extensible markup language"
   ]
  },
  {
   "cell_type": "markdown",
   "id": "b92597d3-3d3d-447c-9da5-c3037791855a",
   "metadata": {},
   "source": [
    "## Применение\n",
    "\n",
    "1. Создание API и реализация SOAP запросов\n",
    "2. Конфигурации\n",
    "3. Базы данных\n",
    "4. Форматы: SVG, DOCX, XLSX, PPTX"
   ]
  },
  {
   "cell_type": "markdown",
   "id": "c98fe6ca-0f3e-4792-8017-a121ffdc85c0",
   "metadata": {},
   "source": [
    "## Синтаксис\n",
    "\n",
    "```\n",
    "<?xml version=\"1.0\" encoding=\"UTF-8\"?>\n",
    "<library>\n",
    "    <book genre=\"учебник\">\n",
    "        <title>Заголовок</title>\n",
    "        <author>Иван Иванов</author>\n",
    "        <price>10 руб</price>\n",
    "    </book>\n",
    "</library>\n",
    "\n",
    "<название тега>значение тега</название тега>\n",
    "\n",
    "<!комментарий>\n",
    "```"
   ]
  },
  {
   "cell_type": "markdown",
   "id": "e50e5fbe-21f6-4a4f-bba4-55ccd8107901",
   "metadata": {},
   "source": [
    "## Пример\n",
    "\n",
    "```\n",
    "<xsd:complexType name=\"Test\">\n",
    "<xsd:sequence>\n",
    "    <xsd:element name=\"value\" type=\"xsd:string\"/>\n",
    "    <xsd:element name=\"include\" type=\"xsd:boolean\" minOccurs=\"0\" default=\"true\"/>\n",
    "    <xsd:element name=\"count\" type=\"xsd:int\"\n",
    "</xsd:sequence> minOccurs=\"0\" length=\"20\"/>\n",
    "</xsd:complexType>\n",
    "```"
   ]
  },
  {
   "cell_type": "markdown",
   "id": "953b1872-bb5c-4a63-bf3c-f8c0a55f3de9",
   "metadata": {},
   "source": [
    "## Библиотеки Python\n",
    "\n",
    "- xml.etree.ElementTree\n",
    "- lxml\n",
    "- xml.dom.minidom\n",
    "- xml.SAX\n",
    "- xmlschema\n",
    "- xmldict\n",
    "- BeautifulSoup"
   ]
  },
  {
   "cell_type": "code",
   "execution_count": null,
   "id": "b582955f-ba85-41de-a960-a03f8a7ca4cd",
   "metadata": {},
   "outputs": [],
   "source": [
    "## Пример работы в Питоне\n",
    "\n",
    "import xml.etree.ElementTree as ET\n",
    "from xml.dom import minidom\n",
    "import xmltodict\n",
    "\n",
    "\n",
    "xml_string = \"\"\"...\"\"\"\n",
    "\n",
    "root = ET.fromstring(xml_string)\n",
    "print(root[0].text)\n",
    "\n",
    "data_dict = xmltodict.parse(xml_string)\n",
    "print(data_dict[\"person\"][\"name\"])"
   ]
  },
  {
   "cell_type": "code",
   "execution_count": null,
   "id": "ef3ff71d-6de5-4fe4-bb48-f9942f4ecb17",
   "metadata": {},
   "outputs": [],
   "source": [
    "## Генерация xml в Питоне\n",
    "\n",
    "import xml.etree.ElementTree as ET\n",
    "\n",
    "root = ET.Element(\"person\") # root элемент\n",
    "name = ET.SubElement(root, \"name\") # дочерний элемент\n",
    "name.text = \"John Dow\"\n",
    "age = ET.SubElement(root, \"age\")\n",
    "age.text = \"30\"\n",
    "tree = ET.ElementTree(root) # создание дерева\n",
    "tree.write(\"person.xml\", encoding=\"UTF8\", xml_declaration=true)"
   ]
  },
  {
   "cell_type": "code",
   "execution_count": null,
   "id": "c2619e1a-e3e8-4b92-aac9-8c7357897477",
   "metadata": {},
   "outputs": [],
   "source": [
    "import xmltodict\n",
    "\n",
    "data_dict = {\n",
    "    'person': {\n",
    "        'name': \"John Dow\",\n",
    "        'age': \"30\",\n",
    "        'city': \"NY\"\n",
    "    }\n",
    "}\n",
    "\n",
    "xml_string = xmltodict.unparse(data_dict)\n",
    "\n",
    "print(xml_string)"
   ]
  }
 ],
 "metadata": {
  "kernelspec": {
   "display_name": "local",
   "language": "python",
   "name": "local"
  },
  "language_info": {
   "codemirror_mode": {
    "name": "ipython",
    "version": 3
   },
   "file_extension": ".py",
   "mimetype": "text/x-python",
   "name": "python",
   "nbconvert_exporter": "python",
   "pygments_lexer": "ipython3",
   "version": "3.12.7"
  }
 },
 "nbformat": 4,
 "nbformat_minor": 5
}
