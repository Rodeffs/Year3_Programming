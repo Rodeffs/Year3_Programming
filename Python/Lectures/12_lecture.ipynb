{
 "cells": [
  {
   "cell_type": "markdown",
   "id": "8ebd2c14-cf95-42cb-9115-fb0ff739ce25",
   "metadata": {},
   "source": [
    "# Лекция 12 - Word"
   ]
  },
  {
   "cell_type": "markdown",
   "id": "5904b6d7-a9a9-4ebc-84bf-d9b769603826",
   "metadata": {},
   "source": [
    "## Библиотеки\n",
    "\n",
    "* python-docx - работает с вордом от 2007 (т.е. работа только с docx)\n",
    "* Aspose-words - платная, работает с doc и docx"
   ]
  },
  {
   "cell_type": "markdown",
   "id": "cc8ddfaf-fccf-4cbf-bf26-21f49539c7bc",
   "metadata": {},
   "source": [
    "## python-docx"
   ]
  },
  {
   "cell_type": "code",
   "execution_count": null,
   "id": "d525a2c4-c68f-477a-b1f9-02a50ac90668",
   "metadata": {},
   "outputs": [],
   "source": [
    "from docx import Document\n",
    "\n",
    "# Создание документа\n",
    "document = Document()\n",
    "document.save('test.docx')\n",
    "\n",
    "# Открытие документа\n",
    "document = Document('path/to/document.docx')\n",
    "document = Document('newname.docx')"
   ]
  },
  {
   "cell_type": "code",
   "execution_count": null,
   "id": "471daf0e-0d9c-4f7e-b3af-0bc34f675ec6",
   "metadata": {},
   "outputs": [],
   "source": [
    "# Через open\n",
    "f = open('path/to/document.docx', 'rb')\n",
    "document = Document(f)\n",
    "...\n",
    "f.close()\n",
    "\n",
    "# Через with`\n",
    "with open('path/to/document.docx', 'rb') as f:\n",
    "    source_stream = StringIO(f.read()) # встроенный объект Python\n",
    "    document = Document(source_stream)\n",
    "    source_stream.close()"
   ]
  },
  {
   "cell_type": "markdown",
   "id": "3b28bde2-3827-43de-9bdc-8e62b1ae0fa4",
   "metadata": {},
   "source": [
    "## Структура документа\n",
    "\n",
    "* Document\n",
    "    - Paragraph (список)\n",
    "        + Run (список)"
   ]
  },
  {
   "cell_type": "code",
   "execution_count": null,
   "id": "0971c130-afc5-45fa-910d-5c8f5d8a426d",
   "metadata": {},
   "outputs": [],
   "source": [
    "# Чтение\n",
    "\n",
    "from docx import Document\n",
    "\n",
    "\n",
    "doc = Document('example.docx')\n",
    "\n",
    "print(doc.paragraph[0].text) # текст первого абзаца\n",
    "print(len(doc.paragraph)) # количество абзацев\n",
    "\n",
    "text = []\n",
    "\n",
    "for paragraph in doc.paragraph:\n",
    "    text.append(paragraph.text)\n",
    "\n",
    "print('\\n'.join(text))"
   ]
  },
  {
   "cell_type": "code",
   "execution_count": null,
   "id": "b41b0ef4-694e-4612-82b9-b0d720e3bf31",
   "metadata": {},
   "outputs": [],
   "source": [
    "# Стили\n",
    "\n",
    "from docx import Document\n",
    "from docx.shared import Pt, RGBColor\n",
    "\n",
    "\n",
    "doc = Document()\n",
    "\n",
    "parapgraph.style = 'Normal'\n",
    "run.style = '...'\n",
    "\n",
    "font.name = 'Arial'\n",
    "font.size = Pt(12)\n",
    "\n",
    "run = doc.add_paragraph.add_run()\\\n",
    "font = run.font\n",
    "font.color.rgb = RGBColor(0x42, 0x24, 0xE9)"
   ]
  },
  {
   "cell_type": "code",
   "execution_count": null,
   "id": "7f2bd85c-83b0-46dc-9ecf-1a0750b9bde1",
   "metadata": {},
   "outputs": [],
   "source": [
    "from docx import Document\n",
    "\n",
    "\n",
    "doc = Document()\n",
    "\n",
    "doc.add_paragraph('Hello, world!')\n",
    "par1 = doc.add_paragraph('Second paragraph')\n",
    "par1.add_run(\"added text\").bold = True\n",
    "\n",
    "doc.save('test.docx')"
   ]
  },
  {
   "cell_type": "code",
   "execution_count": null,
   "id": "83120932-5a9e-4956-8993-3df3fe25e6b4",
   "metadata": {},
   "outputs": [],
   "source": [
    "doc.paragraph[2].run[0].add_break()  # обрывает строку\n",
    "\n",
    "# Для page break:\n",
    "doc.paragraph[2].run[0].add_break(doc.enum.text.WD_BREAK)"
   ]
  },
  {
   "cell_type": "code",
   "execution_count": null,
   "id": "2d9a4088-2da4-4621-843d-371586f204aa",
   "metadata": {},
   "outputs": [],
   "source": [
    "# Добавляение картинок\n",
    "\n",
    "doc.add_picture('sample.jpg', width=docs.shared.Cm(5))"
   ]
  },
  {
   "cell_type": "code",
   "execution_count": null,
   "id": "69406b46-57e8-4cb9-9b5d-64b95ac8a203",
   "metadata": {},
   "outputs": [],
   "source": [
    "# Работа с таблицами\n",
    "\n",
    "table = doc.add_table(rows=3, cols=3)\n",
    "table.style = 'TableGrid'\n",
    "\n",
    "for row in range(3):\n",
    "    for col in range(3):\n",
    "        cell = table.add(row, col)\n",
    "        cell.text = str(row+1) + str(col+1)\n",
    "\n",
    "doc.save('title.docx')"
   ]
  },
  {
   "cell_type": "code",
   "execution_count": null,
   "id": "748d9394-f4fa-4b33-a64a-e8f61ba5f144",
   "metadata": {},
   "outputs": [],
   "source": [
    "# Чтение таблиц\n",
    "\n",
    "table = doc.table[0]\n",
    "\n",
    "for row in table.rows:\n",
    "    s = ''\n",
    "    for cd in table.cells:\n",
    "        s = s + col.text + ' '"
   ]
  },
  {
   "cell_type": "markdown",
   "id": "eedc03f0-bf4b-4cce-b657-6a493c2199e5",
   "metadata": {},
   "source": [
    "## Aspose-words"
   ]
  },
  {
   "cell_type": "code",
   "execution_count": null,
   "id": "674cfe67-17e8-42af-835e-83689be34cb4",
   "metadata": {},
   "outputs": [],
   "source": [
    "import aspose.words as aw\n",
    "\n",
    "\n",
    "doc = aw.Document()\n",
    "builder = aw.DocumentBuilder(doc)\n",
    "builder.write('Hello, world')\n",
    "\n",
    "doc.save('sample.doc')"
   ]
  },
  {
   "cell_type": "code",
   "execution_count": null,
   "id": "ae594655-5f44-4cf3-a5d5-b215183f7e75",
   "metadata": {},
   "outputs": [],
   "source": [
    "font = builder.font\n",
    "\n",
    "font.size = 14\n",
    "font.bold = True\n",
    "font.name = 'Arial'\n",
    "\n",
    "pf = builder.paragraph_format\n",
    "pf.first_line_indent = 4\n",
    "pf.alignment = aw.ParagraphAlignment.Justify # растянуть абзац по странице\n",
    "\n",
    "write(ln)"
   ]
  }
 ],
 "metadata": {
  "kernelspec": {
   "display_name": "Python 3 (ipykernel)",
   "language": "python",
   "name": "python3"
  },
  "language_info": {
   "codemirror_mode": {
    "name": "ipython",
    "version": 3
   },
   "file_extension": ".py",
   "mimetype": "text/x-python",
   "name": "python",
   "nbconvert_exporter": "python",
   "pygments_lexer": "ipython3",
   "version": "3.12.7"
  }
 },
 "nbformat": 4,
 "nbformat_minor": 5
}
