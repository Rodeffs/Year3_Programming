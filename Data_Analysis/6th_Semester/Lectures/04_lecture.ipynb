{
 "cells": [
  {
   "cell_type": "markdown",
   "id": "93aba9ae-ffd5-43ab-9705-090432c0900d",
   "metadata": {},
   "source": [
    "# Лекция 4 - Методы чистки данных"
   ]
  },
  {
   "cell_type": "markdown",
   "id": "74c35214-7e48-4184-9d50-95f3fe19dc98",
   "metadata": {},
   "source": [
    "## Методы\n",
    "\n",
    "* Удаление дубликатов\n",
    "* Работа с пропущенными значениями\n",
    "* Обработка выбросов\n",
    "* Стандартизация и нормализация"
   ]
  },
  {
   "cell_type": "markdown",
   "id": "0614d8c7-b0c3-4307-a107-e36e39f133b2",
   "metadata": {},
   "source": [
    "## Утилитиы для очистки\n",
    "\n",
    "* Pandas\n",
    "* OpenRefine"
   ]
  },
  {
   "cell_type": "markdown",
   "id": "5631ce4f-ce80-42ca-90d5-2fcb832e2b8e",
   "metadata": {},
   "source": [
    "## Работа с пропущенными данными\n",
    "\n",
    "Они могут быть:\n",
    "\n",
    "* Случайные\n",
    "* Неслучайные (закономерные)\n",
    "* Восстановимые\n",
    "* Потерянные\n",
    "\n",
    "*Не существует* универсального способа работы с ними\n",
    "\n",
    "* Удаление\n",
    "* Обработка пропусков\n",
    "    - ручная замена\n",
    "    - заполнение статистики\n",
    "    - заполнение соседними значениями"
   ]
  },
  {
   "cell_type": "markdown",
   "id": "03c529e6-86a7-4ba0-b5cb-5eaf1e1f1a9e",
   "metadata": {},
   "source": [
    "## Функции в pandas\n",
    "\n",
    "`.dropra()`:\n",
    "\n",
    "* axis - по умолчанию 0 (строки)\n",
    "* how - по умолчанию \"any\"\n",
    "* thresh -  минимальное значение после которого строка удаляется, по умолчанию None\n",
    "* subset - по умолчанию None\n",
    "* inplace - ввести изменения в исходные данные, по умолчанию False\n",
    "\n",
    "`.fillna()`:\n",
    "\n",
    "* value - чем будем заполнять пропуск\n",
    "* method - здесь много вариантов, см. документацию\n",
    "* axis\n",
    "* inplace\n",
    "\n",
    "`.isna()` - просто получит датафрейм, где значения True - пропущенные значения, а False - непропущенные\n",
    "\n",
    "`.notna()` - тоже самое, только наоборот"
   ]
  }
 ],
 "metadata": {
  "kernelspec": {
   "display_name": "Python 3 (ipykernel)",
   "language": "python",
   "name": "python3"
  },
  "language_info": {
   "codemirror_mode": {
    "name": "ipython",
    "version": 3
   },
   "file_extension": ".py",
   "mimetype": "text/x-python",
   "name": "python",
   "nbconvert_exporter": "python",
   "pygments_lexer": "ipython3",
   "version": "3.13.1"
  }
 },
 "nbformat": 4,
 "nbformat_minor": 5
}
