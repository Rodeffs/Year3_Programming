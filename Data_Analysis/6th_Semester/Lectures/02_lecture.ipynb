{
 "cells": [
  {
   "cell_type": "markdown",
   "id": "3c71181d-38d4-49e5-b842-c0f450f2f0e6",
   "metadata": {},
   "source": [
    "# Лекция 2 - Pandas"
   ]
  },
  {
   "cell_type": "markdown",
   "id": "da87420b-7ec2-4377-89fe-eba7e85bbc8b",
   "metadata": {},
   "source": [
    "## Аналоги\n",
    "\n",
    "1. DuckDB - для аналитики\n",
    "2. Polars\n",
    "3. Vaex"
   ]
  },
  {
   "cell_type": "markdown",
   "id": "dcc25f0f-88b5-4d66-9447-2898eb40fa8e",
   "metadata": {},
   "source": [
    "## Объекты Pandas\n",
    "\n",
    "* DataFrame (строится из серий)\n",
    "* Series\n",
    "* Index\n",
    "    - axis [0,1]: 0 - строка, 1 - столбец"
   ]
  },
  {
   "cell_type": "markdown",
   "id": "f25fe5a5-63b8-4efb-9a77-2ebf86ef620c",
   "metadata": {},
   "source": [
    "## Типы данных\n",
    "\n",
    "* object\n",
    "* int64\n",
    "* float64\n",
    "* bool\n",
    "* datetime64\n",
    "* timedelta\n",
    "* category\n",
    "\n",
    "Если ячейка данных пропущена, то она становится типом Nan, а столбец - float\n",
    "\n",
    "Для типа datetime - Nat\n",
    "\n",
    "NA - общий"
   ]
  },
  {
   "cell_type": "code",
   "execution_count": null,
   "id": "05521c19-af79-4adf-b768-a23c228ebd09",
   "metadata": {},
   "outputs": [],
   "source": [
    "## Работа с Pandas\n",
    "\n",
    "import numpy as np\n",
    "import pandas as pd\n",
    "\n",
    "# pd.Series(data, index, dtype, name, copy, fastpath)\n",
    "\n",
    "s1 = pd.Series([1, 2, 3, 4, 5], ['A', 'B', 'C', 'D', 'E']) # должны совпадать индекс и количество данных\n",
    "\n",
    "# pd.DataFrame(data, index (для строк), columns, dtype, copy)\n",
    "\n",
    "df pd.DataFrame(s1, index=['a', 'b', 'c', 'd'], columns=['col1', 'col2'])\n",
    "\n",
    "s1 = {'col1': [1, 2, 3, 4], 'col2': [1, 2, 3, 4]}"
   ]
  },
  {
   "cell_type": "code",
   "execution_count": null,
   "id": "ec21047e-1aae-44d1-a70c-b09386346063",
   "metadata": {},
   "outputs": [],
   "source": [
    "## Работа с csv (comma separated values)\n",
    "\n",
    "# df = read_csv(filepath, sep, header, index_col, usecols, dtype, nrows, infer_datatime_format, parse_dates, keep_date_col, skiprows, squeeze, encoding)\n",
    "\n",
    "df = pd.read_csv(...)"
   ]
  }
 ],
 "metadata": {
  "kernelspec": {
   "display_name": "local",
   "language": "python",
   "name": "local"
  },
  "language_info": {
   "codemirror_mode": {
    "name": "ipython",
    "version": 3
   },
   "file_extension": ".py",
   "mimetype": "text/x-python",
   "name": "python",
   "nbconvert_exporter": "python",
   "pygments_lexer": "ipython3",
   "version": "3.13.1"
  }
 },
 "nbformat": 4,
 "nbformat_minor": 5
}
