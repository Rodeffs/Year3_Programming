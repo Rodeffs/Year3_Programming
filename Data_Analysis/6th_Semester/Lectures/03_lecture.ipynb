{
 "cells": [
  {
   "cell_type": "markdown",
   "id": "be5f8f99-34d8-45ed-b10b-03b1bbee8315",
   "metadata": {},
   "source": [
    "# Лекция 3"
   ]
  },
  {
   "cell_type": "markdown",
   "id": "65e8c584-0906-475d-8d60-203dd2496ade",
   "metadata": {},
   "source": [
    "## Меры центральной тенденции\n",
    "\n",
    "1. Арифметическое среднее (mean) = 1/n * sum(X_i, i=1,..,n)\n",
    "2. Медиана (median) - значение среднего элемента от отсортированного набора\n",
    "3. Мода - наиболее часто встречающееся в распределении"
   ]
  },
  {
   "cell_type": "markdown",
   "id": "3aeb7ca0-2022-4c8f-9247-4843b3324dcd",
   "metadata": {},
   "source": [
    "## Скользящее среднее (moving average, MA)\n",
    "\n",
    "Это семейство функций, значения которых в каждой точке определения равны некоторому среднему значению предыдущей функции из распределения\n",
    "\n",
    "1. SMA (Simple MA) = 1/n * sum(p_t-i, i=0,..,n-1); SMA_t = SMA_t-1 - p_t-n/n + p*t/n\n",
    "2. EMA (Exponential MA) = a*p_t + (1-a)*EMA_t-1"
   ]
  },
  {
   "cell_type": "markdown",
   "id": "cf715632-6e78-4279-b100-d3dda7b96b99",
   "metadata": {},
   "source": [
    "## Квантиль\n",
    "\n",
    "* Квартиль (25%, 50%, 75%)\n",
    "* Дециль (10%, 20%, ...)\n",
    "* Процентиль (a = p/100)"
   ]
  },
  {
   "cell_type": "markdown",
   "id": "1f46caed-65df-4369-94c8-6bd2a0912ed1",
   "metadata": {},
   "source": [
    "## Стандарты\n",
    "\n",
    "* KDD   \n",
    "* CRISP-DM\n",
    "* CRISP-ML"
   ]
  },
  {
   "cell_type": "markdown",
   "id": "dbe8c0f2-4c13-4e9c-acef-67fbde01952b",
   "metadata": {},
   "source": [
    "### KDD (Knowledge Discovery in DataBases)\n",
    "\n",
    "Это - нетривиальный процесс обнаружения корректных новых потеницально полезных и интерпретируемых шаблонов в больших массивах данных\n",
    "\n",
    "1. Отбор данных\n",
    "2. Предобработка\n",
    "3. Преобразования\n",
    "4. DataMining\n",
    "5. Интерпретация"
   ]
  },
  {
   "cell_type": "markdown",
   "id": "900fa90d-8f4a-4ea8-94ff-b7b0f674bdf6",
   "metadata": {},
   "source": [
    "## Цикл данных (?) \n",
    "\n",
    "Бизнес-анализ <-> Анализ данных -> Подготовка данных <-> Моделирование -> Оценка решения -> Внедрение"
   ]
  }
 ],
 "metadata": {
  "kernelspec": {
   "display_name": "Python 3 (ipykernel)",
   "language": "python",
   "name": "python3"
  },
  "language_info": {
   "codemirror_mode": {
    "name": "ipython",
    "version": 3
   },
   "file_extension": ".py",
   "mimetype": "text/x-python",
   "name": "python",
   "nbconvert_exporter": "python",
   "pygments_lexer": "ipython3",
   "version": "3.13.1"
  }
 },
 "nbformat": 4,
 "nbformat_minor": 5
}
