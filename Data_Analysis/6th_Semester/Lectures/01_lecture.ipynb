{
 "cells": [
  {
   "cell_type": "markdown",
   "id": "ee4093a3-21ab-4783-9a59-f18c8c247ea4",
   "metadata": {},
   "source": [
    "# Лекция 1 - Введение"
   ]
  },
  {
   "cell_type": "markdown",
   "id": "e8e79549-0faa-4325-9511-fd5e82365baa",
   "metadata": {},
   "source": [
    "### Типы аналитики данных (по Microsoft):\n",
    "\n",
    "1. Описательная аналитика\n",
    "2. Прогнозная аналитика\n",
    "3. Диагностическая аналитика\n",
    "4. Когнитивная аналитика\n",
    "5. Предписывающая аналитика\n",
    "6. Текстовая аналитика"
   ]
  },
  {
   "cell_type": "markdown",
   "id": "7ba89070-292a-40c1-bd56-5e29748e6d7f",
   "metadata": {},
   "source": [
    "### Жизненный цикл (ЖЦ) аналитики данных (BigData)\n",
    "\n",
    "1. Оценка бизнес-кейсов (а нужно ли вообще выполнять задачу) -> ТЗ для аналитика данных\n",
    "2. Идентификация данных (какие данные полезны, а какие - нет) }\n",
    "3. Сбор и фильтрация данных                                   } -> ТЗ для инженера данных\n",
    "4. Извлечение данных                                          }\n",
    "5. Проверка и очистка данных\n",
    "6. Агрегирование и представление данных\n",
    "7. Анализ данных\n",
    "8. Визуализация\n",
    "9. Использование результатов анализа"
   ]
  },
  {
   "cell_type": "markdown",
   "id": "b5c72180-a69a-4759-bf1d-1868e13e0eda",
   "metadata": {},
   "source": [
    "## Глава 1. Разведочный анализ данных"
   ]
  }
 ],
 "metadata": {
  "kernelspec": {
   "display_name": "Python 3 (ipykernel)",
   "language": "python",
   "name": "python3"
  },
  "language_info": {
   "codemirror_mode": {
    "name": "ipython",
    "version": 3
   },
   "file_extension": ".py",
   "mimetype": "text/x-python",
   "name": "python",
   "nbconvert_exporter": "python",
   "pygments_lexer": "ipython3",
   "version": "3.13.1"
  }
 },
 "nbformat": 4,
 "nbformat_minor": 5
}
