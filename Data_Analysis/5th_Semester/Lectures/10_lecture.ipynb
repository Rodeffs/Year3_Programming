{
 "cells": [
  {
   "cell_type": "markdown",
   "id": "dcc949cd-e9be-44e5-a91d-209155591566",
   "metadata": {},
   "source": [
    "# Лекция 10 - Базы данных Python"
   ]
  },
  {
   "cell_type": "code",
   "execution_count": null,
   "id": "dfadb303-af7f-45c2-a118-8a9977e62067",
   "metadata": {},
   "outputs": [],
   "source": [
    "# Установка соединения\n",
    "\n",
    "import sqlite3\n",
    "\n",
    "conn = sqlite3.connect(\"path/to/db\")"
   ]
  },
  {
   "cell_type": "code",
   "execution_count": null,
   "id": "744a52a1-05b9-4154-b342-a513cbe8a559",
   "metadata": {},
   "outputs": [],
   "source": [
    "# Классический вариант через курсор\n",
    "\n",
    "cur = conn.cursor()\n",
    "\n",
    "cur.execute(\"SQL command\")\n",
    "\n",
    "dat = cur.fetchone() # fetchmany(), fetchall()\n",
    "\n",
    "conn.commit()\n",
    "\n",
    "conn.close()"
   ]
  },
  {
   "cell_type": "code",
   "execution_count": null,
   "id": "f44539e9-4e78-48db-a24d-f584b99c9063",
   "metadata": {},
   "outputs": [],
   "source": [
    "# Вариант через with\n",
    "\n",
    "with conn:\n",
    "    conn.execute(\"SQL command\")\n",
    "    data = conn.execute(\"SQL command\")"
   ]
  },
  {
   "cell_type": "markdown",
   "id": "616918f5-ea1c-4c5f-9561-65d28f779fc1",
   "metadata": {},
   "source": [
    "## ORM\n",
    "\n",
    "ORM - Object-Relational Mapping, создаёт связь бд и объектов. Реализации:\n",
    "* Active Record - нарушает SOLID\n",
    "* Data Mapper - сложнее в использовании\n",
    "\n",
    "```\n",
    "ORM                       | БД\n",
    "——————————————————————————————————— \n",
    "Класс модели              | Таблица\n",
    "Атрибут объекта           | Колонка\n",
    "Объект (экземпляр модели) | Строка\n",
    "```"
   ]
  },
  {
   "cell_type": "markdown",
   "id": "8ab9b25f-785f-4937-8073-e2d920e2edbd",
   "metadata": {},
   "source": [
    "## Библиотеки Python для ORM\n",
    "\n",
    "* SQLAlchemy (SQLite, MySQL, Postgres, Oracle, MSSQLServer, ...)\n",
    "* Peewee (SQLite, MySQL, Postgres)\n",
    "* DjangoORM\n",
    "* PonyORM\n",
    "* SQLObject\n",
    "* TortoiseORM\n",
    "\n",
    "Ещё есть TinyDB"
   ]
  },
  {
   "cell_type": "code",
   "execution_count": null,
   "id": "9e2a67bd-acfd-420f-9dac-68dd3906e990",
   "metadata": {},
   "outputs": [],
   "source": [
    "# Работа с Peewee в Питоне\n",
    "\n",
    "from peewee import *\n",
    "\n",
    "db = SQLiteDataBase(\"test.db\")\n",
    "\n",
    "class Person(Model):\n",
    "    name = CharField()\n",
    "    birthday = DataField()\n",
    "    is_relative = BooleanField()\n",
    "\n",
    "class Pet(Model):\n",
    "    owner = ForeignKeyField(Person.related_name = \"pets\")\n",
    "    name = CharField()\n",
    "    animal_type = CharField()\n",
    "\n",
    "class Meta:\n",
    "    Person.create_table()\n",
    "    Pet.create_table()\n",
    "\n",
    "bob = Person(name=\"Bob\", birthday=\"1970-5-20\", is_relative=True)\n",
    "bob.save()"
   ]
  },
  {
   "cell_type": "code",
   "execution_count": null,
   "id": "05a6a6fc-3c09-416a-bc9a-876f102115a8",
   "metadata": {},
   "outputs": [],
   "source": [
    "# Работа с SQLAlchemy\n",
    "\n",
    "engine = create_engine(\"sqlite://site.db\", echo=True)\n",
    "\n",
    "Base = declarative_base()\n",
    "\n",
    "__tabname__ = \"users\"\n",
    "\n",
    "id = Column(Integer, primary_key=True)\n",
    "\n",
    "name = Column(String)\n",
    "\n",
    "age = Column(Integer)\n",
    "\n",
    "fuser = User(name=\"Пётр\", age=20)\n",
    "\n",
    "_.add(fuser)\n",
    "_.commit()\n",
    "\n",
    "user=_.query(User).filter_by(name=\"Иван\").filter()"
   ]
  },
  {
   "cell_type": "code",
   "execution_count": null,
   "id": "f9ca96b8-11d8-443e-88b8-731caa2e15f4",
   "metadata": {},
   "outputs": [],
   "source": [
    "# Работа с TinyDB\n",
    "\n",
    "from tinydb import TinyDB, Query\n",
    "\n",
    "db = TinyDB(\"db.json\")\n",
    "\n",
    "db.insert({\"name\": \"Пётр\", \"age\": 30})\n",
    "\n",
    "User = Query()\n",
    "\n",
    "t_user = db.get(User.name==\"Пётр\")\n",
    "\n",
    "print(t_user[\"age\"])"
   ]
  }
 ],
 "metadata": {
  "kernelspec": {
   "display_name": "Python 3 (ipykernel)",
   "language": "python",
   "name": "python3"
  },
  "language_info": {
   "codemirror_mode": {
    "name": "ipython",
    "version": 3
   },
   "file_extension": ".py",
   "mimetype": "text/x-python",
   "name": "python",
   "nbconvert_exporter": "python",
   "pygments_lexer": "ipython3",
   "version": "3.12.7"
  }
 },
 "nbformat": 4,
 "nbformat_minor": 5
}
