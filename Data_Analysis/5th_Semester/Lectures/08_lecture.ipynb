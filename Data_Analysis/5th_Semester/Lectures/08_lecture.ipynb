{
 "cells": [
  {
   "cell_type": "markdown",
   "id": "e81fa76c-c966-4388-af83-c536edc782e4",
   "metadata": {},
   "source": [
    "# Лекция 8 - JSON"
   ]
  },
  {
   "cell_type": "markdown",
   "id": "43a4a37b-5b2c-4f05-adbd-76e50096fbfb",
   "metadata": {},
   "source": [
    "JSON - JavaScript Object Notation\n",
    "\n",
    "Создан Дугласом Крокфордом"
   ]
  },
  {
   "cell_type": "markdown",
   "id": "bcda3481-5faa-4074-8c1c-bfc9f5762565",
   "metadata": {},
   "source": [
    "## Синтаксис\n",
    "\n",
    "```\n",
    "{\n",
    "    \"key1\":value1,\n",
    "    \"key2\":value2\n",
    "}\n",
    "```\n",
    "\n",
    "### JSON Валидаторы\n",
    "\n",
    "JSON Formatter"
   ]
  },
  {
   "cell_type": "markdown",
   "id": "1e0017b7-a1c1-4c27-b544-eb79d4948a8c",
   "metadata": {},
   "source": [
    "## Типы данных\n",
    "\n",
    "string, number, bool, array, object (объект JSON), null"
   ]
  },
  {
   "cell_type": "markdown",
   "id": "1c5917c3-1e41-471a-b975-621d86134bbc",
   "metadata": {},
   "source": [
    "## Пример JSON\n",
    "\n",
    "```\n",
    "{\n",
    "    \"name\":\"Alice\",\n",
    "    \"age\":25,\n",
    "    \"isStudent\":false,\n",
    "    \"courses\":[\"Math\", \"CS\"],\n",
    "    \"address\":{\"city\":\"NY\", \"zip\":\"00101101\"},\n",
    "    \"nothing\":null\n",
    "}\n",
    "```"
   ]
  },
  {
   "cell_type": "markdown",
   "id": "8c0da441-e50e-4f8a-8683-7a7eb6ec04ca",
   "metadata": {},
   "source": [
    "## JSON Schema\n",
    "\n",
    "Также, как и в XML, в JSON есть схемы, позволяющие задавать форматы, min max, required и т.д."
   ]
  },
  {
   "cell_type": "markdown",
   "id": "b3637b59-24f3-432a-9f84-3f7de6527a9c",
   "metadata": {},
   "source": [
    "## Пример схемы JSON\n",
    "\n",
    "```\n",
    "{\n",
    "    \"$schema\":\"http://json-schema.org/draft-07/schema#\",\n",
    "    \"type\":\"object\",\n",
    "    \"properties\":{\n",
    "        \"name\":{\n",
    "            \"type\":\"string\"\n",
    "        },\n",
    "        \"age\":{\n",
    "            \"type\":\"integer\",\n",
    "            \"minumum\":18\n",
    "        },\n",
    "        ...\n",
    "    },\n",
    "    \"required\":[\"name\", \"age\"]\n",
    "}\n",
    "```"
   ]
  },
  {
   "cell_type": "markdown",
   "id": "cf48efa5-5617-42d6-ba89-4b0a1d2f87b2",
   "metadata": {},
   "source": [
    "## Ключи для схемы\n",
    "\n",
    "anyOf, allOf, oneOf - позволяют работать с контекстом\n",
    "\n",
    "### Пример AnyOf\n",
    "\n",
    "```\n",
    "\"price\":{\n",
    "    \"anyOf\":[\n",
    "        {\"type\":\"number\"},\n",
    "        {\"type\":\"string\"}\n",
    "    ]\n",
    "}\n",
    "```\n",
    "\n",
    "### Пример oneOf\n",
    "\n",
    "```\n",
    "\"discount\":{\n",
    "    \"oneOf\":[\n",
    "        {\"type\":\"number\", \"minimum\":0, \"maximum\":50},\n",
    "        {\"type\":\"boolean\"}\n",
    "    ]\n",
    "}\n",
    "```\n",
    "\n",
    "### Пример allOf\n",
    "\n",
    "```\n",
    "\"product\":{\n",
    "    \"allOf\":[\n",
    "        {\"type\":\"string\"},\n",
    "        {\"minlength\":3},\n",
    "        {\"pattern\":\"^[A-Z].*S\"}\n",
    "    ]\n",
    "}\n",
    "```"
   ]
  },
  {
   "cell_type": "markdown",
   "id": "85d3c4ae-435f-4e9d-9eee-b39a40725ca3",
   "metadata": {},
   "source": [
    "## Библиотеки Python для работы с JSON\n",
    "\n",
    "+ **json** - стандартная\n",
    "+ **SimpleJson**\n",
    "+ **ujson** - сделана на C++, работает быстрее\n",
    "+ **orjson** - сделана на Rust, работает быстрее\n",
    "+ **ijson** - многопоточная\n",
    "+ **jsonschema** - для JSON схемы\n",
    "+ **cerberus** - для JSON схемы"
   ]
  },
  {
   "cell_type": "markdown",
   "id": "e466e59f-1aa2-4aa2-96cd-6465b460beca",
   "metadata": {},
   "source": [
    "## Парсинг JSON в Python"
   ]
  },
  {
   "cell_type": "code",
   "execution_count": null,
   "id": "9b2aed75-e34b-4c62-a437-27c3cbaec840",
   "metadata": {},
   "outputs": [],
   "source": [
    "import json\n",
    "\n",
    "\n",
    "json_string = \"\"\"\n",
    "{\n",
    "    \"name\":\"Alice\",\n",
    "    \"age\":25,\n",
    "    \"city\":\"London\"\n",
    "}\n",
    "\"\"\"\n",
    "\n",
    "data = json.load(json_string)\n",
    "print(data[\"city\"]) # London"
   ]
  },
  {
   "cell_type": "code",
   "execution_count": null,
   "id": "f8781d3f-7660-4cbc-aee6-34abb21d5258",
   "metadata": {},
   "outputs": [],
   "source": [
    "import simplejson as json\n",
    "\n",
    "\n",
    "with open(\"sample.json\", \"r\") as f:\n",
    "    data = json.load(f)\n",
    "    print(data[\"city\"]) # London"
   ]
  },
  {
   "cell_type": "markdown",
   "id": "bb1f1b8b-6099-478a-a1a4-d8c230ee4306",
   "metadata": {},
   "source": [
    "## Сериализация\n",
    "\n",
    "```\n",
    "Python           | JSON\n",
    "dict             | object\n",
    "list, tuple      | array\n",
    "str              | string\n",
    "int, long, float | number\n",
    "True, False      | true, false\n",
    "null             | null\n",
    "```\n",
    "\n",
    "### Команды\n",
    "\n",
    "`json.dump(data, file)` или `json.dumps(data)`"
   ]
  },
  {
   "cell_type": "markdown",
   "id": "9e2fee79-c9e8-44cd-9e95-3a9897e4abfb",
   "metadata": {},
   "source": [
    "## Десериализация\n",
    "\n",
    "```\n",
    "JSON        | Python\n",
    "object      | dict\n",
    "array       | list\n",
    "string      | str\n",
    "number      | int, float\n",
    "true, false | True, False\n",
    "null        | null\n",
    "```\n",
    "\n",
    "### Команды\n",
    "\n",
    "`json.load(data, file)` или `json.loads(data)`"
   ]
  },
  {
   "cell_type": "markdown",
   "id": "190ff2dd-b802-42af-866f-ccf7683d7aea",
   "metadata": {},
   "source": [
    "## Пример сериализации в Python"
   ]
  },
  {
   "cell_type": "code",
   "execution_count": null,
   "id": "a1445905-9896-4ad5-8eeb-134aaeaa58de",
   "metadata": {},
   "outputs": [],
   "source": [
    "import ujson\n",
    "\n",
    "\n",
    "data = {\n",
    "    \"name\":\"John Dow\",\n",
    "    \"age\":31,\n",
    "    \"city\":\"NY\"\n",
    "}\n",
    "\n",
    "json_string = ujson.dumps(data)\n",
    "print(json_string) # JSON файл"
   ]
  },
  {
   "cell_type": "markdown",
   "id": "0d5c7c52-b7ac-48a7-b4cb-8e409af083bb",
   "metadata": {},
   "source": [
    "## Другие форматы\n",
    "\n",
    "YAML, TOML"
   ]
  }
 ],
 "metadata": {
  "kernelspec": {
   "display_name": "local",
   "language": "python",
   "name": "local"
  },
  "language_info": {
   "codemirror_mode": {
    "name": "ipython",
    "version": 3
   },
   "file_extension": ".py",
   "mimetype": "text/x-python",
   "name": "python",
   "nbconvert_exporter": "python",
   "pygments_lexer": "ipython3",
   "version": "3.12.7"
  }
 },
 "nbformat": 4,
 "nbformat_minor": 5
}
