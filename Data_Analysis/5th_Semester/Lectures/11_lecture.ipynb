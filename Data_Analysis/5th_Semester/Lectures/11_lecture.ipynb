{
 "cells": [
  {
   "cell_type": "markdown",
   "id": "60482bb1-a9c6-402d-b05e-fb5d0b5f8dfe",
   "metadata": {},
   "source": [
    "# Лекция 11 - Работа с Excel в Питоне"
   ]
  },
  {
   "cell_type": "code",
   "execution_count": null,
   "id": "c669d01a-d941-444f-87e3-cb24f42598bb",
   "metadata": {},
   "outputs": [],
   "source": [
    "# Работа с openpyxl\n",
    "\n",
    "import openpyxl\n",
    "\n",
    "wb_obj = openpyxl.load_workbook('test.xlsx')\n",
    "\n",
    "sheet_obj = wb_obj.active\n",
    "\n",
    "cell_obj = sheet_obj.cell(row=1, column=1)\n",
    "\n",
    "print(cell_obj.value)\n",
    "\n",
    "row = sheet_obj.max_row\n",
    "\n",
    "column = sheet_obj.max_column\n",
    "\n",
    "\n",
    "for i in range(1, row+1):\n",
    "    cell_obj = sheet_obj.cell(row=i, column=1)\n",
    "    print(cell_obj.value)\n",
    "\n",
    "\n",
    "cell_obj = sheet_obj['A1':'B6'] # диапазон"
   ]
  },
  {
   "cell_type": "code",
   "execution_count": null,
   "id": "407361f8-fa39-4361-89a6-ea85491020d5",
   "metadata": {},
   "outputs": [],
   "source": [
    "from openpyxl import Workbook\n",
    "\n",
    "work_book = Workbook()\n",
    "\n",
    "work_book.save(filename='test2.xlsx')\n",
    "\n",
    "c1 = sheet_obj.cell(row=1, column=2)\n",
    "\n",
    "c1.value = 'Hello'"
   ]
  },
  {
   "cell_type": "code",
   "execution_count": null,
   "id": "0086d7f1-a6db-48e8-aca6-0f3e12f2bea4",
   "metadata": {},
   "outputs": [],
   "source": [
    "import openpyxl\n",
    "from openpyxl.chart import BarChart, Reference\n",
    "\n",
    "wb = openpyxl.Workbook()\n",
    "sheet = wb.active()\n",
    "\n",
    "for i in range(10):\n",
    "    sheet.append([i])\n",
    "\n",
    "value = Reference(sheet, min_col=1, min_row=1, max_col=1, max_row=10)\n",
    "\n",
    "chart = BarChart()\n",
    "\n",
    "chart.add_data(values)\n",
    "\n",
    "chart.title = \"Bar Chart\"\n",
    "\n",
    "chart.x_axis.title = \"x axis\"\n",
    "\n",
    "sheet.add_chart(chart, \"E2\")\n",
    "\n",
    "wb.save('test.xlsx')"
   ]
  },
  {
   "cell_type": "code",
   "execution_count": null,
   "id": "01a7de3b-9f55-4459-8180-c92129d9122e",
   "metadata": {},
   "outputs": [],
   "source": [
    "# Работа с pyexcel\n",
    "\n",
    "import pyexcel\n",
    "\n",
    "my_array = pyexcel.get_array(filename='test.xls')"
   ]
  },
  {
   "cell_type": "code",
   "execution_count": null,
   "id": "edaeab9a-ed64-4cf1-8224-83e81c6e1dee",
   "metadata": {},
   "outputs": [],
   "source": [
    "from pyexcel._compact import OrderedDict\n",
    "\n",
    "my_dict = pyexcel.get_dict(file_name='test.xls', name_column_by_row=0)"
   ]
  }
 ],
 "metadata": {
  "kernelspec": {
   "display_name": "local",
   "language": "python",
   "name": "local"
  },
  "language_info": {
   "codemirror_mode": {
    "name": "ipython",
    "version": 3
   },
   "file_extension": ".py",
   "mimetype": "text/x-python",
   "name": "python",
   "nbconvert_exporter": "python",
   "pygments_lexer": "ipython3",
   "version": "3.12.7"
  }
 },
 "nbformat": 4,
 "nbformat_minor": 5
}
