{
 "cells": [
  {
   "cell_type": "markdown",
   "id": "9da6d9fa-0feb-4764-9f3f-a5f03a4ca555",
   "metadata": {},
   "source": [
    "# Лабораторная работа № 5. Часть 1. Модель решающих деревьев"
   ]
  },
  {
   "cell_type": "code",
   "execution_count": null,
   "id": "86504ab1-6ecd-41b0-93fa-ad7d94edcf0e",
   "metadata": {},
   "outputs": [],
   "source": []
  }
 ],
 "metadata": {
  "kernelspec": {
   "display_name": "Python 3 (ipykernel)",
   "language": "python",
   "name": "python3"
  },
  "language_info": {
   "codemirror_mode": {
    "name": "ipython",
    "version": 3
   },
   "file_extension": ".py",
   "mimetype": "text/x-python",
   "name": "python",
   "nbconvert_exporter": "python",
   "pygments_lexer": "ipython3",
   "version": "3.13.3"
  }
 },
 "nbformat": 4,
 "nbformat_minor": 5
}
