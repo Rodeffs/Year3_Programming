{
 "cells": [
  {
   "cell_type": "markdown",
   "id": "024d5ca7-b269-46d2-abcd-fd7f7f50500f",
   "metadata": {},
   "source": [
    "# Лабораторная работа № 4. Кривые обучения и регуляризации"
   ]
  },
  {
   "cell_type": "code",
   "execution_count": 195,
   "id": "1b63b245-6fa7-4eb5-adf6-167a2edc7764",
   "metadata": {},
   "outputs": [],
   "source": [
    "import pandas as pd\n",
    "import numpy as np\n",
    "import seaborn as sns\n",
    "import matplotlib.pyplot as plt\n",
    "\n",
    "from sklearn.model_selection import train_test_split\n",
    "from sklearn.linear_model import LinearRegression\n",
    "from sklearn.linear_model import Ridge\n",
    "from sklearn.linear_model import Lasso\n",
    "from sklearn.linear_model import ElasticNet\n",
    "from sklearn.model_selection import LearningCurveDisplay, learning_curve\n",
    "from sklearn import metrics"
   ]
  },
  {
   "cell_type": "code",
   "execution_count": 196,
   "id": "44379d0e-9842-4620-802a-e7b053249b98",
   "metadata": {},
   "outputs": [
    {
     "data": {
      "text/html": [
       "<div>\n",
       "<style scoped>\n",
       "    .dataframe tbody tr th:only-of-type {\n",
       "        vertical-align: middle;\n",
       "    }\n",
       "\n",
       "    .dataframe tbody tr th {\n",
       "        vertical-align: top;\n",
       "    }\n",
       "\n",
       "    .dataframe thead th {\n",
       "        text-align: right;\n",
       "    }\n",
       "</style>\n",
       "<table border=\"1\" class=\"dataframe\">\n",
       "  <thead>\n",
       "    <tr style=\"text-align: right;\">\n",
       "      <th></th>\n",
       "      <th>CRIM</th>\n",
       "      <th>ZN</th>\n",
       "      <th>INDUS</th>\n",
       "      <th>CHAS</th>\n",
       "      <th>NOX</th>\n",
       "      <th>RM</th>\n",
       "      <th>AGE</th>\n",
       "      <th>DIS</th>\n",
       "      <th>RAD</th>\n",
       "      <th>TAX</th>\n",
       "      <th>PTRATIO</th>\n",
       "      <th>B</th>\n",
       "      <th>LSTAT</th>\n",
       "      <th>MEDV</th>\n",
       "    </tr>\n",
       "  </thead>\n",
       "  <tbody>\n",
       "    <tr>\n",
       "      <th>0</th>\n",
       "      <td>0.00632</td>\n",
       "      <td>18.0</td>\n",
       "      <td>2.31</td>\n",
       "      <td>0</td>\n",
       "      <td>0.538</td>\n",
       "      <td>6.575</td>\n",
       "      <td>65.2</td>\n",
       "      <td>4.0900</td>\n",
       "      <td>1</td>\n",
       "      <td>296</td>\n",
       "      <td>15.3</td>\n",
       "      <td>396.90</td>\n",
       "      <td>4.98</td>\n",
       "      <td>24.0</td>\n",
       "    </tr>\n",
       "    <tr>\n",
       "      <th>1</th>\n",
       "      <td>0.02731</td>\n",
       "      <td>0.0</td>\n",
       "      <td>7.07</td>\n",
       "      <td>0</td>\n",
       "      <td>0.469</td>\n",
       "      <td>6.421</td>\n",
       "      <td>78.9</td>\n",
       "      <td>4.9671</td>\n",
       "      <td>2</td>\n",
       "      <td>242</td>\n",
       "      <td>17.8</td>\n",
       "      <td>396.90</td>\n",
       "      <td>9.14</td>\n",
       "      <td>21.6</td>\n",
       "    </tr>\n",
       "    <tr>\n",
       "      <th>2</th>\n",
       "      <td>0.02729</td>\n",
       "      <td>0.0</td>\n",
       "      <td>7.07</td>\n",
       "      <td>0</td>\n",
       "      <td>0.469</td>\n",
       "      <td>7.185</td>\n",
       "      <td>61.1</td>\n",
       "      <td>4.9671</td>\n",
       "      <td>2</td>\n",
       "      <td>242</td>\n",
       "      <td>17.8</td>\n",
       "      <td>392.83</td>\n",
       "      <td>4.03</td>\n",
       "      <td>34.7</td>\n",
       "    </tr>\n",
       "    <tr>\n",
       "      <th>3</th>\n",
       "      <td>0.03237</td>\n",
       "      <td>0.0</td>\n",
       "      <td>2.18</td>\n",
       "      <td>0</td>\n",
       "      <td>0.458</td>\n",
       "      <td>6.998</td>\n",
       "      <td>45.8</td>\n",
       "      <td>6.0622</td>\n",
       "      <td>3</td>\n",
       "      <td>222</td>\n",
       "      <td>18.7</td>\n",
       "      <td>394.63</td>\n",
       "      <td>2.94</td>\n",
       "      <td>33.4</td>\n",
       "    </tr>\n",
       "    <tr>\n",
       "      <th>4</th>\n",
       "      <td>0.06905</td>\n",
       "      <td>0.0</td>\n",
       "      <td>2.18</td>\n",
       "      <td>0</td>\n",
       "      <td>0.458</td>\n",
       "      <td>7.147</td>\n",
       "      <td>54.2</td>\n",
       "      <td>6.0622</td>\n",
       "      <td>3</td>\n",
       "      <td>222</td>\n",
       "      <td>18.7</td>\n",
       "      <td>396.90</td>\n",
       "      <td>5.33</td>\n",
       "      <td>36.2</td>\n",
       "    </tr>\n",
       "  </tbody>\n",
       "</table>\n",
       "</div>"
      ],
      "text/plain": [
       "      CRIM    ZN  INDUS  CHAS    NOX     RM   AGE     DIS  RAD  TAX  PTRATIO  \\\n",
       "0  0.00632  18.0   2.31     0  0.538  6.575  65.2  4.0900    1  296     15.3   \n",
       "1  0.02731   0.0   7.07     0  0.469  6.421  78.9  4.9671    2  242     17.8   \n",
       "2  0.02729   0.0   7.07     0  0.469  7.185  61.1  4.9671    2  242     17.8   \n",
       "3  0.03237   0.0   2.18     0  0.458  6.998  45.8  6.0622    3  222     18.7   \n",
       "4  0.06905   0.0   2.18     0  0.458  7.147  54.2  6.0622    3  222     18.7   \n",
       "\n",
       "        B  LSTAT  MEDV  \n",
       "0  396.90   4.98  24.0  \n",
       "1  396.90   9.14  21.6  \n",
       "2  392.83   4.03  34.7  \n",
       "3  394.63   2.94  33.4  \n",
       "4  396.90   5.33  36.2  "
      ]
     },
     "execution_count": 196,
     "metadata": {},
     "output_type": "execute_result"
    }
   ],
   "source": [
    "df = pd.read_csv(\"boston_house_prices.csv\")\n",
    "df.head()"
   ]
  },
  {
   "cell_type": "code",
   "execution_count": 197,
   "id": "8c6dcf9a-c12e-4b01-8f4c-ff2da860fad4",
   "metadata": {},
   "outputs": [],
   "source": [
    "train, test = train_test_split(df, test_size=0.2)\n",
    "\n",
    "feats = ['CRIM', 'ZN', 'INDUS', 'CHAS', 'NOX', 'RM', 'AGE', 'DIS', 'RAD', 'TAX', 'PTRATIO', 'B', 'LSTAT']\n",
    "\n",
    "X_train = train[feats]\n",
    "Y_train = train[['MEDV']]\n",
    "\n",
    "X_test = test[feats]\n",
    "Y_test = test[['MEDV']]"
   ]
  },
  {
   "cell_type": "markdown",
   "id": "277afed4-39f4-4c02-b8aa-e5359a02d81e",
   "metadata": {},
   "source": [
    "Модель линейной регрессии с нормальным распределением"
   ]
  },
  {
   "cell_type": "code",
   "execution_count": 198,
   "id": "097dea5a-bdd4-4f48-aa3d-a1aaf9c66027",
   "metadata": {},
   "outputs": [],
   "source": [
    "model1 = LinearRegression(fit_intercept=True)\n",
    "\n",
    "model1.fit(X_train, Y_train)\n",
    "\n",
    "Y_pred1 = model1.predict(X_test)"
   ]
  },
  {
   "cell_type": "markdown",
   "id": "d345061f-fd12-4045-a04c-16189de1f34b",
   "metadata": {},
   "source": [
    "Её кривая обучения"
   ]
  },
  {
   "cell_type": "code",
   "execution_count": 199,
   "id": "d4cefed9-e89e-49ad-bc01-3f367ba66f9d",
   "metadata": {},
   "outputs": [
    {
     "data": {
      "image/png": "[encoded data removed]",
      "text/plain": [
       "<Figure size 640x480 with 1 Axes>"
      ]
     },
     "metadata": {},
     "output_type": "display_data"
    }
   ],
   "source": [
    "LearningCurveDisplay.from_estimator(model1, X_train, Y_train)\n",
    "plt.show()"
   ]
  },
  {
   "cell_type": "markdown",
   "id": "934e57bd-ea7e-4b1a-8a94-eb03f75dfce3",
   "metadata": {},
   "source": [
    "Модель Ridge"
   ]
  },
  {
   "cell_type": "code",
   "execution_count": 200,
   "id": "ea1d8a7d-f7e3-40ab-8d20-b2991345100b",
   "metadata": {},
   "outputs": [],
   "source": [
    "model2 = Ridge(alpha=1.0, fit_intercept=True)\n",
    "\n",
    "model2.fit(X_train, Y_train)\n",
    "\n",
    "Y_pred2 = model2.predict(X_test)"
   ]
  },
  {
   "cell_type": "markdown",
   "id": "64caaadc-b8ce-4669-a319-1f9260369678",
   "metadata": {},
   "source": [
    "Её кривая обучения"
   ]
  },
  {
   "cell_type": "code",
   "execution_count": 201,
   "id": "1c77b987-80f6-4641-86fa-8c210e6a7dbd",
   "metadata": {},
   "outputs": [
    {
     "data": {
      "image/png": "[encoded data removed]",
      "text/plain": [
       "<Figure size 640x480 with 1 Axes>"
      ]
     },
     "metadata": {},
     "output_type": "display_data"
    }
   ],
   "source": [
    "LearningCurveDisplay.from_estimator(model2, X_train, Y_train)\n",
    "plt.show()"
   ]
  },
  {
   "cell_type": "markdown",
   "id": "a437d625-5787-4cfb-93b6-2aad0b15550e",
   "metadata": {},
   "source": [
    "Из этих графиков я делаю вывод, что для данного датасета лучше подойдёт модель Ridge при малом количестве наблюдений. При больших же количествах разница между ними заключается в том, что у Ridge ошибка (зона вне кривой) больше, чем у линейной регрессии\n",
    "\n",
    "Если бы была переобученность, то мы бы заметили высокие показатели train при любых количествах наблюдений, но при этом малые значения test\n",
    "\n",
    "В случае же недообученности показатели были бы низкими как для train, так и для test\n",
    "\n",
    "Из кривых видно, что при достаточном количестве наблюдений обе метрики имеют хорошие показатели как при test, так и при train, следовательно модели хорошо обучены"
   ]
  },
  {
   "cell_type": "markdown",
   "id": "34ee59e3-3d81-47c6-9dcd-f8a5c701c8bf",
   "metadata": {},
   "source": [
    "Модель Lasso"
   ]
  },
  {
   "cell_type": "code",
   "execution_count": 219,
   "id": "257ceec8-df3f-42be-969b-45362b031782",
   "metadata": {},
   "outputs": [],
   "source": [
    "model3 = Lasso(alpha=1.0, fit_intercept=True)\n",
    "\n",
    "model3.fit(X_train, Y_train)\n",
    "\n",
    "Y_pred3 = model3.predict(X_test)"
   ]
  },
  {
   "cell_type": "markdown",
   "id": "2620dbea-b08c-4452-865a-81ea576ab27b",
   "metadata": {},
   "source": [
    "Модель ElasticNet"
   ]
  },
  {
   "cell_type": "code",
   "execution_count": 220,
   "id": "e2b2e7dd-9ac3-4d8d-a40a-4418f003bf4d",
   "metadata": {},
   "outputs": [],
   "source": [
    "model4 = ElasticNet(alpha=1.0, l1_ratio=0.5, fit_intercept=True)\n",
    "\n",
    "model4.fit(X_train, Y_train)\n",
    "\n",
    "Y_pred4 = model4.predict(X_test)"
   ]
  },
  {
   "cell_type": "markdown",
   "id": "aca57241-c2de-4966-ab41-0dbc3a078f70",
   "metadata": {},
   "source": [
    "Сравним все эти модели по их метрикам"
   ]
  },
  {
   "cell_type": "code",
   "execution_count": 221,
   "id": "643c1235-05eb-46c6-8185-0f455d648416",
   "metadata": {},
   "outputs": [
    {
     "data": {
      "text/plain": [
       "3.3489868482908944"
      ]
     },
     "execution_count": 221,
     "metadata": {},
     "output_type": "execute_result"
    }
   ],
   "source": [
    "metrics.mean_absolute_error(Y_test, Y_pred1)"
   ]
  },
  {
   "cell_type": "code",
   "execution_count": 222,
   "id": "30064aac-525c-42b2-bcf6-e06dfbd4d712",
   "metadata": {},
   "outputs": [
    {
     "data": {
      "text/plain": [
       "3.400976255396305"
      ]
     },
     "execution_count": 222,
     "metadata": {},
     "output_type": "execute_result"
    }
   ],
   "source": [
    "metrics.mean_absolute_error(Y_test, Y_pred2)"
   ]
  },
  {
   "cell_type": "code",
   "execution_count": 223,
   "id": "79e8e3a7-c5e6-4966-81aa-86713dc17f76",
   "metadata": {},
   "outputs": [
    {
     "data": {
      "text/plain": [
       "3.7068213766602907"
      ]
     },
     "execution_count": 223,
     "metadata": {},
     "output_type": "execute_result"
    }
   ],
   "source": [
    "metrics.mean_absolute_error(Y_test, Y_pred3)"
   ]
  },
  {
   "cell_type": "code",
   "execution_count": 224,
   "id": "3bd2dc6d-9f1c-4b80-a7cc-83337e2c9ea9",
   "metadata": {},
   "outputs": [
    {
     "data": {
      "text/plain": [
       "3.705690419068061"
      ]
     },
     "execution_count": 224,
     "metadata": {},
     "output_type": "execute_result"
    }
   ],
   "source": [
    "metrics.mean_absolute_error(Y_test, Y_pred4)"
   ]
  },
  {
   "cell_type": "code",
   "execution_count": 225,
   "id": "585708e3-f3eb-4d2e-8bf2-40498b571aa0",
   "metadata": {},
   "outputs": [
    {
     "data": {
      "text/plain": [
       "0.17603173208860498"
      ]
     },
     "execution_count": 225,
     "metadata": {},
     "output_type": "execute_result"
    }
   ],
   "source": [
    "metrics.mean_absolute_percentage_error(Y_test, Y_pred1)"
   ]
  },
  {
   "cell_type": "code",
   "execution_count": 226,
   "id": "6d10c8c6-b0b8-43a9-bc34-cc1e8f5f5de0",
   "metadata": {},
   "outputs": [
    {
     "data": {
      "text/plain": [
       "0.18030534155188074"
      ]
     },
     "execution_count": 226,
     "metadata": {},
     "output_type": "execute_result"
    }
   ],
   "source": [
    "metrics.mean_absolute_percentage_error(Y_test, Y_pred2)"
   ]
  },
  {
   "cell_type": "code",
   "execution_count": 227,
   "id": "eae0f619-c24c-40eb-bd60-d14c048f8021",
   "metadata": {},
   "outputs": [
    {
     "data": {
      "text/plain": [
       "0.18874513628829223"
      ]
     },
     "execution_count": 227,
     "metadata": {},
     "output_type": "execute_result"
    }
   ],
   "source": [
    "metrics.mean_absolute_percentage_error(Y_test, Y_pred3)"
   ]
  },
  {
   "cell_type": "code",
   "execution_count": 228,
   "id": "b789244e-991d-454d-803c-265d8e7f35db",
   "metadata": {},
   "outputs": [
    {
     "data": {
      "text/plain": [
       "0.18946173224253143"
      ]
     },
     "execution_count": 228,
     "metadata": {},
     "output_type": "execute_result"
    }
   ],
   "source": [
    "metrics.mean_absolute_percentage_error(Y_test, Y_pred4)"
   ]
  },
  {
   "cell_type": "code",
   "execution_count": 229,
   "id": "7eaf3591-2fd2-470e-baf3-384f08e088a8",
   "metadata": {},
   "outputs": [
    {
     "data": {
      "text/plain": [
       "0.7196443964741679"
      ]
     },
     "execution_count": 229,
     "metadata": {},
     "output_type": "execute_result"
    }
   ],
   "source": [
    "metrics.r2_score(Y_test, Y_pred1)"
   ]
  },
  {
   "cell_type": "code",
   "execution_count": 230,
   "id": "8cf59fe3-882e-470d-a4c0-475131c7b748",
   "metadata": {},
   "outputs": [
    {
     "data": {
      "text/plain": [
       "0.7088082390995235"
      ]
     },
     "execution_count": 230,
     "metadata": {},
     "output_type": "execute_result"
    }
   ],
   "source": [
    "metrics.r2_score(Y_test, Y_pred2)"
   ]
  },
  {
   "cell_type": "code",
   "execution_count": 231,
   "id": "b9b9a714-dfea-46c4-8b4e-d6c3a5d6c248",
   "metadata": {},
   "outputs": [
    {
     "data": {
      "text/plain": [
       "0.6571482144156946"
      ]
     },
     "execution_count": 231,
     "metadata": {},
     "output_type": "execute_result"
    }
   ],
   "source": [
    "metrics.r2_score(Y_test, Y_pred3)"
   ]
  },
  {
   "cell_type": "code",
   "execution_count": 232,
   "id": "c219ee3b-f010-425c-a1d3-5eafeee6da21",
   "metadata": {},
   "outputs": [
    {
     "data": {
      "text/plain": [
       "0.6590462858719692"
      ]
     },
     "execution_count": 232,
     "metadata": {},
     "output_type": "execute_result"
    }
   ],
   "source": [
    "metrics.r2_score(Y_test, Y_pred4)"
   ]
  },
  {
   "cell_type": "markdown",
   "id": "e27a288c-f028-4f04-b3fe-6ce9cd809de4",
   "metadata": {},
   "source": [
    "Судя по метрикам, наихудшей оказалась модель Lasso, а наилучшей - Ridge, хотя её преимущество не столь велико"
   ]
  },
  {
   "cell_type": "markdown",
   "id": "a5c4c9a5-94a8-42dd-a560-23f83a4a4b29",
   "metadata": {},
   "source": [
    "Единая таблица весовых коэффициентов"
   ]
  },
  {
   "cell_type": "code",
   "execution_count": 233,
   "id": "0268fcba-2417-4710-b0bf-a4f14c6dbf7e",
   "metadata": {},
   "outputs": [
    {
     "data": {
      "text/html": [
       "<div>\n",
       "<style scoped>\n",
       "    .dataframe tbody tr th:only-of-type {\n",
       "        vertical-align: middle;\n",
       "    }\n",
       "\n",
       "    .dataframe tbody tr th {\n",
       "        vertical-align: top;\n",
       "    }\n",
       "\n",
       "    .dataframe thead th {\n",
       "        text-align: right;\n",
       "    }\n",
       "</style>\n",
       "<table border=\"1\" class=\"dataframe\">\n",
       "  <thead>\n",
       "    <tr style=\"text-align: right;\">\n",
       "      <th></th>\n",
       "      <th>LinReg</th>\n",
       "      <th>Ridge</th>\n",
       "      <th>Lasso</th>\n",
       "      <th>ElasticNet</th>\n",
       "    </tr>\n",
       "  </thead>\n",
       "  <tbody>\n",
       "    <tr>\n",
       "      <th>0</th>\n",
       "      <td>-0.116691</td>\n",
       "      <td>-0.113373</td>\n",
       "      <td>-0.082775</td>\n",
       "      <td>-0.096061</td>\n",
       "    </tr>\n",
       "    <tr>\n",
       "      <th>1</th>\n",
       "      <td>0.055968</td>\n",
       "      <td>0.056955</td>\n",
       "      <td>0.059509</td>\n",
       "      <td>0.061643</td>\n",
       "    </tr>\n",
       "    <tr>\n",
       "      <th>2</th>\n",
       "      <td>0.047641</td>\n",
       "      <td>0.015964</td>\n",
       "      <td>-0.000000</td>\n",
       "      <td>0.000000</td>\n",
       "    </tr>\n",
       "    <tr>\n",
       "      <th>3</th>\n",
       "      <td>3.427872</td>\n",
       "      <td>3.421730</td>\n",
       "      <td>0.000000</td>\n",
       "      <td>0.000000</td>\n",
       "    </tr>\n",
       "    <tr>\n",
       "      <th>4</th>\n",
       "      <td>-16.764281</td>\n",
       "      <td>-8.990674</td>\n",
       "      <td>-0.000000</td>\n",
       "      <td>-0.000000</td>\n",
       "    </tr>\n",
       "    <tr>\n",
       "      <th>5</th>\n",
       "      <td>3.443772</td>\n",
       "      <td>3.449892</td>\n",
       "      <td>0.739877</td>\n",
       "      <td>0.868116</td>\n",
       "    </tr>\n",
       "    <tr>\n",
       "      <th>6</th>\n",
       "      <td>0.009658</td>\n",
       "      <td>0.002727</td>\n",
       "      <td>0.030215</td>\n",
       "      <td>0.030235</td>\n",
       "    </tr>\n",
       "    <tr>\n",
       "      <th>7</th>\n",
       "      <td>-1.521472</td>\n",
       "      <td>-1.413096</td>\n",
       "      <td>-0.837222</td>\n",
       "      <td>-0.868887</td>\n",
       "    </tr>\n",
       "    <tr>\n",
       "      <th>8</th>\n",
       "      <td>0.331353</td>\n",
       "      <td>0.311382</td>\n",
       "      <td>0.288427</td>\n",
       "      <td>0.321663</td>\n",
       "    </tr>\n",
       "    <tr>\n",
       "      <th>9</th>\n",
       "      <td>-0.013414</td>\n",
       "      <td>-0.013968</td>\n",
       "      <td>-0.015890</td>\n",
       "      <td>-0.017047</td>\n",
       "    </tr>\n",
       "    <tr>\n",
       "      <th>10</th>\n",
       "      <td>-1.015498</td>\n",
       "      <td>-0.927928</td>\n",
       "      <td>-0.770631</td>\n",
       "      <td>-0.790079</td>\n",
       "    </tr>\n",
       "    <tr>\n",
       "      <th>11</th>\n",
       "      <td>0.008775</td>\n",
       "      <td>0.008878</td>\n",
       "      <td>0.007168</td>\n",
       "      <td>0.007391</td>\n",
       "    </tr>\n",
       "    <tr>\n",
       "      <th>12</th>\n",
       "      <td>-0.564519</td>\n",
       "      <td>-0.578336</td>\n",
       "      <td>-0.794755</td>\n",
       "      <td>-0.784520</td>\n",
       "    </tr>\n",
       "  </tbody>\n",
       "</table>\n",
       "</div>"
      ],
      "text/plain": [
       "       LinReg     Ridge     Lasso  ElasticNet\n",
       "0   -0.116691 -0.113373 -0.082775   -0.096061\n",
       "1    0.055968  0.056955  0.059509    0.061643\n",
       "2    0.047641  0.015964 -0.000000    0.000000\n",
       "3    3.427872  3.421730  0.000000    0.000000\n",
       "4  -16.764281 -8.990674 -0.000000   -0.000000\n",
       "5    3.443772  3.449892  0.739877    0.868116\n",
       "6    0.009658  0.002727  0.030215    0.030235\n",
       "7   -1.521472 -1.413096 -0.837222   -0.868887\n",
       "8    0.331353  0.311382  0.288427    0.321663\n",
       "9   -0.013414 -0.013968 -0.015890   -0.017047\n",
       "10  -1.015498 -0.927928 -0.770631   -0.790079\n",
       "11   0.008775  0.008878  0.007168    0.007391\n",
       "12  -0.564519 -0.578336 -0.794755   -0.784520"
      ]
     },
     "execution_count": 233,
     "metadata": {},
     "output_type": "execute_result"
    }
   ],
   "source": [
    "coef_table = pd.DataFrame.from_dict({\"LinReg\": model1.coef_.tolist()[0], \"Ridge\": model2.coef_.tolist(), \"Lasso\": model3.coef_.tolist(), \"ElasticNet\": model4.coef_.tolist()})\n",
    "coef_table"
   ]
  },
  {
   "cell_type": "markdown",
   "id": "493155c2-76ad-48f2-85f2-c3ad0ed32e77",
   "metadata": {},
   "source": [
    "Матрица корреляции"
   ]
  },
  {
   "cell_type": "code",
   "execution_count": 234,
   "id": "bae32145-b0da-48ab-bc28-81a24903dff1",
   "metadata": {},
   "outputs": [
    {
     "data": {
      "text/html": [
       "<div>\n",
       "<style scoped>\n",
       "    .dataframe tbody tr th:only-of-type {\n",
       "        vertical-align: middle;\n",
       "    }\n",
       "\n",
       "    .dataframe tbody tr th {\n",
       "        vertical-align: top;\n",
       "    }\n",
       "\n",
       "    .dataframe thead th {\n",
       "        text-align: right;\n",
       "    }\n",
       "</style>\n",
       "<table border=\"1\" class=\"dataframe\">\n",
       "  <thead>\n",
       "    <tr style=\"text-align: right;\">\n",
       "      <th></th>\n",
       "      <th>CRIM</th>\n",
       "      <th>ZN</th>\n",
       "      <th>INDUS</th>\n",
       "      <th>CHAS</th>\n",
       "      <th>NOX</th>\n",
       "      <th>RM</th>\n",
       "      <th>AGE</th>\n",
       "      <th>DIS</th>\n",
       "      <th>RAD</th>\n",
       "      <th>TAX</th>\n",
       "      <th>PTRATIO</th>\n",
       "      <th>B</th>\n",
       "      <th>LSTAT</th>\n",
       "      <th>MEDV</th>\n",
       "    </tr>\n",
       "  </thead>\n",
       "  <tbody>\n",
       "    <tr>\n",
       "      <th>CRIM</th>\n",
       "      <td>1.000000</td>\n",
       "      <td>-0.200469</td>\n",
       "      <td>0.406583</td>\n",
       "      <td>-0.055892</td>\n",
       "      <td>0.420972</td>\n",
       "      <td>-0.219247</td>\n",
       "      <td>0.352734</td>\n",
       "      <td>-0.379670</td>\n",
       "      <td>0.625505</td>\n",
       "      <td>0.582764</td>\n",
       "      <td>0.289946</td>\n",
       "      <td>-0.385064</td>\n",
       "      <td>0.455621</td>\n",
       "      <td>-0.388305</td>\n",
       "    </tr>\n",
       "    <tr>\n",
       "      <th>ZN</th>\n",
       "      <td>-0.200469</td>\n",
       "      <td>1.000000</td>\n",
       "      <td>-0.533828</td>\n",
       "      <td>-0.042697</td>\n",
       "      <td>-0.516604</td>\n",
       "      <td>0.311991</td>\n",
       "      <td>-0.569537</td>\n",
       "      <td>0.664408</td>\n",
       "      <td>-0.311948</td>\n",
       "      <td>-0.314563</td>\n",
       "      <td>-0.391679</td>\n",
       "      <td>0.175520</td>\n",
       "      <td>-0.412995</td>\n",
       "      <td>0.360445</td>\n",
       "    </tr>\n",
       "    <tr>\n",
       "      <th>INDUS</th>\n",
       "      <td>0.406583</td>\n",
       "      <td>-0.533828</td>\n",
       "      <td>1.000000</td>\n",
       "      <td>0.062938</td>\n",
       "      <td>0.763651</td>\n",
       "      <td>-0.391676</td>\n",
       "      <td>0.644779</td>\n",
       "      <td>-0.708027</td>\n",
       "      <td>0.595129</td>\n",
       "      <td>0.720760</td>\n",
       "      <td>0.383248</td>\n",
       "      <td>-0.356977</td>\n",
       "      <td>0.603800</td>\n",
       "      <td>-0.483725</td>\n",
       "    </tr>\n",
       "    <tr>\n",
       "      <th>CHAS</th>\n",
       "      <td>-0.055892</td>\n",
       "      <td>-0.042697</td>\n",
       "      <td>0.062938</td>\n",
       "      <td>1.000000</td>\n",
       "      <td>0.091203</td>\n",
       "      <td>0.091251</td>\n",
       "      <td>0.086518</td>\n",
       "      <td>-0.099176</td>\n",
       "      <td>-0.007368</td>\n",
       "      <td>-0.035587</td>\n",
       "      <td>-0.121515</td>\n",
       "      <td>0.048788</td>\n",
       "      <td>-0.053929</td>\n",
       "      <td>0.175260</td>\n",
       "    </tr>\n",
       "    <tr>\n",
       "      <th>NOX</th>\n",
       "      <td>0.420972</td>\n",
       "      <td>-0.516604</td>\n",
       "      <td>0.763651</td>\n",
       "      <td>0.091203</td>\n",
       "      <td>1.000000</td>\n",
       "      <td>-0.302188</td>\n",
       "      <td>0.731470</td>\n",
       "      <td>-0.769230</td>\n",
       "      <td>0.611441</td>\n",
       "      <td>0.668023</td>\n",
       "      <td>0.188933</td>\n",
       "      <td>-0.380051</td>\n",
       "      <td>0.590879</td>\n",
       "      <td>-0.427321</td>\n",
       "    </tr>\n",
       "    <tr>\n",
       "      <th>RM</th>\n",
       "      <td>-0.219247</td>\n",
       "      <td>0.311991</td>\n",
       "      <td>-0.391676</td>\n",
       "      <td>0.091251</td>\n",
       "      <td>-0.302188</td>\n",
       "      <td>1.000000</td>\n",
       "      <td>-0.240265</td>\n",
       "      <td>0.205246</td>\n",
       "      <td>-0.209847</td>\n",
       "      <td>-0.292048</td>\n",
       "      <td>-0.355501</td>\n",
       "      <td>0.128069</td>\n",
       "      <td>-0.613808</td>\n",
       "      <td>0.695360</td>\n",
       "    </tr>\n",
       "    <tr>\n",
       "      <th>AGE</th>\n",
       "      <td>0.352734</td>\n",
       "      <td>-0.569537</td>\n",
       "      <td>0.644779</td>\n",
       "      <td>0.086518</td>\n",
       "      <td>0.731470</td>\n",
       "      <td>-0.240265</td>\n",
       "      <td>1.000000</td>\n",
       "      <td>-0.747881</td>\n",
       "      <td>0.456022</td>\n",
       "      <td>0.506456</td>\n",
       "      <td>0.261515</td>\n",
       "      <td>-0.273534</td>\n",
       "      <td>0.602339</td>\n",
       "      <td>-0.376955</td>\n",
       "    </tr>\n",
       "    <tr>\n",
       "      <th>DIS</th>\n",
       "      <td>-0.379670</td>\n",
       "      <td>0.664408</td>\n",
       "      <td>-0.708027</td>\n",
       "      <td>-0.099176</td>\n",
       "      <td>-0.769230</td>\n",
       "      <td>0.205246</td>\n",
       "      <td>-0.747881</td>\n",
       "      <td>1.000000</td>\n",
       "      <td>-0.494588</td>\n",
       "      <td>-0.534432</td>\n",
       "      <td>-0.232471</td>\n",
       "      <td>0.291512</td>\n",
       "      <td>-0.496996</td>\n",
       "      <td>0.249929</td>\n",
       "    </tr>\n",
       "    <tr>\n",
       "      <th>RAD</th>\n",
       "      <td>0.625505</td>\n",
       "      <td>-0.311948</td>\n",
       "      <td>0.595129</td>\n",
       "      <td>-0.007368</td>\n",
       "      <td>0.611441</td>\n",
       "      <td>-0.209847</td>\n",
       "      <td>0.456022</td>\n",
       "      <td>-0.494588</td>\n",
       "      <td>1.000000</td>\n",
       "      <td>0.910228</td>\n",
       "      <td>0.464741</td>\n",
       "      <td>-0.444413</td>\n",
       "      <td>0.488676</td>\n",
       "      <td>-0.381626</td>\n",
       "    </tr>\n",
       "    <tr>\n",
       "      <th>TAX</th>\n",
       "      <td>0.582764</td>\n",
       "      <td>-0.314563</td>\n",
       "      <td>0.720760</td>\n",
       "      <td>-0.035587</td>\n",
       "      <td>0.668023</td>\n",
       "      <td>-0.292048</td>\n",
       "      <td>0.506456</td>\n",
       "      <td>-0.534432</td>\n",
       "      <td>0.910228</td>\n",
       "      <td>1.000000</td>\n",
       "      <td>0.460853</td>\n",
       "      <td>-0.441808</td>\n",
       "      <td>0.543993</td>\n",
       "      <td>-0.468536</td>\n",
       "    </tr>\n",
       "    <tr>\n",
       "      <th>PTRATIO</th>\n",
       "      <td>0.289946</td>\n",
       "      <td>-0.391679</td>\n",
       "      <td>0.383248</td>\n",
       "      <td>-0.121515</td>\n",
       "      <td>0.188933</td>\n",
       "      <td>-0.355501</td>\n",
       "      <td>0.261515</td>\n",
       "      <td>-0.232471</td>\n",
       "      <td>0.464741</td>\n",
       "      <td>0.460853</td>\n",
       "      <td>1.000000</td>\n",
       "      <td>-0.177383</td>\n",
       "      <td>0.374044</td>\n",
       "      <td>-0.507787</td>\n",
       "    </tr>\n",
       "    <tr>\n",
       "      <th>B</th>\n",
       "      <td>-0.385064</td>\n",
       "      <td>0.175520</td>\n",
       "      <td>-0.356977</td>\n",
       "      <td>0.048788</td>\n",
       "      <td>-0.380051</td>\n",
       "      <td>0.128069</td>\n",
       "      <td>-0.273534</td>\n",
       "      <td>0.291512</td>\n",
       "      <td>-0.444413</td>\n",
       "      <td>-0.441808</td>\n",
       "      <td>-0.177383</td>\n",
       "      <td>1.000000</td>\n",
       "      <td>-0.366087</td>\n",
       "      <td>0.333461</td>\n",
       "    </tr>\n",
       "    <tr>\n",
       "      <th>LSTAT</th>\n",
       "      <td>0.455621</td>\n",
       "      <td>-0.412995</td>\n",
       "      <td>0.603800</td>\n",
       "      <td>-0.053929</td>\n",
       "      <td>0.590879</td>\n",
       "      <td>-0.613808</td>\n",
       "      <td>0.602339</td>\n",
       "      <td>-0.496996</td>\n",
       "      <td>0.488676</td>\n",
       "      <td>0.543993</td>\n",
       "      <td>0.374044</td>\n",
       "      <td>-0.366087</td>\n",
       "      <td>1.000000</td>\n",
       "      <td>-0.737663</td>\n",
       "    </tr>\n",
       "    <tr>\n",
       "      <th>MEDV</th>\n",
       "      <td>-0.388305</td>\n",
       "      <td>0.360445</td>\n",
       "      <td>-0.483725</td>\n",
       "      <td>0.175260</td>\n",
       "      <td>-0.427321</td>\n",
       "      <td>0.695360</td>\n",
       "      <td>-0.376955</td>\n",
       "      <td>0.249929</td>\n",
       "      <td>-0.381626</td>\n",
       "      <td>-0.468536</td>\n",
       "      <td>-0.507787</td>\n",
       "      <td>0.333461</td>\n",
       "      <td>-0.737663</td>\n",
       "      <td>1.000000</td>\n",
       "    </tr>\n",
       "  </tbody>\n",
       "</table>\n",
       "</div>"
      ],
      "text/plain": [
       "             CRIM        ZN     INDUS      CHAS       NOX        RM       AGE  \\\n",
       "CRIM     1.000000 -0.200469  0.406583 -0.055892  0.420972 -0.219247  0.352734   \n",
       "ZN      -0.200469  1.000000 -0.533828 -0.042697 -0.516604  0.311991 -0.569537   \n",
       "INDUS    0.406583 -0.533828  1.000000  0.062938  0.763651 -0.391676  0.644779   \n",
       "CHAS    -0.055892 -0.042697  0.062938  1.000000  0.091203  0.091251  0.086518   \n",
       "NOX      0.420972 -0.516604  0.763651  0.091203  1.000000 -0.302188  0.731470   \n",
       "RM      -0.219247  0.311991 -0.391676  0.091251 -0.302188  1.000000 -0.240265   \n",
       "AGE      0.352734 -0.569537  0.644779  0.086518  0.731470 -0.240265  1.000000   \n",
       "DIS     -0.379670  0.664408 -0.708027 -0.099176 -0.769230  0.205246 -0.747881   \n",
       "RAD      0.625505 -0.311948  0.595129 -0.007368  0.611441 -0.209847  0.456022   \n",
       "TAX      0.582764 -0.314563  0.720760 -0.035587  0.668023 -0.292048  0.506456   \n",
       "PTRATIO  0.289946 -0.391679  0.383248 -0.121515  0.188933 -0.355501  0.261515   \n",
       "B       -0.385064  0.175520 -0.356977  0.048788 -0.380051  0.128069 -0.273534   \n",
       "LSTAT    0.455621 -0.412995  0.603800 -0.053929  0.590879 -0.613808  0.602339   \n",
       "MEDV    -0.388305  0.360445 -0.483725  0.175260 -0.427321  0.695360 -0.376955   \n",
       "\n",
       "              DIS       RAD       TAX   PTRATIO         B     LSTAT      MEDV  \n",
       "CRIM    -0.379670  0.625505  0.582764  0.289946 -0.385064  0.455621 -0.388305  \n",
       "ZN       0.664408 -0.311948 -0.314563 -0.391679  0.175520 -0.412995  0.360445  \n",
       "INDUS   -0.708027  0.595129  0.720760  0.383248 -0.356977  0.603800 -0.483725  \n",
       "CHAS    -0.099176 -0.007368 -0.035587 -0.121515  0.048788 -0.053929  0.175260  \n",
       "NOX     -0.769230  0.611441  0.668023  0.188933 -0.380051  0.590879 -0.427321  \n",
       "RM       0.205246 -0.209847 -0.292048 -0.355501  0.128069 -0.613808  0.695360  \n",
       "AGE     -0.747881  0.456022  0.506456  0.261515 -0.273534  0.602339 -0.376955  \n",
       "DIS      1.000000 -0.494588 -0.534432 -0.232471  0.291512 -0.496996  0.249929  \n",
       "RAD     -0.494588  1.000000  0.910228  0.464741 -0.444413  0.488676 -0.381626  \n",
       "TAX     -0.534432  0.910228  1.000000  0.460853 -0.441808  0.543993 -0.468536  \n",
       "PTRATIO -0.232471  0.464741  0.460853  1.000000 -0.177383  0.374044 -0.507787  \n",
       "B        0.291512 -0.444413 -0.441808 -0.177383  1.000000 -0.366087  0.333461  \n",
       "LSTAT   -0.496996  0.488676  0.543993  0.374044 -0.366087  1.000000 -0.737663  \n",
       "MEDV     0.249929 -0.381626 -0.468536 -0.507787  0.333461 -0.737663  1.000000  "
      ]
     },
     "execution_count": 234,
     "metadata": {},
     "output_type": "execute_result"
    }
   ],
   "source": [
    "df.corr()"
   ]
  },
  {
   "cell_type": "markdown",
   "id": "cc879364-b7b1-495f-aca8-fe449e17671a",
   "metadata": {},
   "source": [
    "Можно сделать следующие выводы:\n",
    "\n",
    "1. Признаки TAX (налог) и RAD (доступность радиальных дорог) имеют очень сильную корреляцию\n",
    "2. MEDV (цена на дом) имеет большую обратную зависимость от LSTAT (низкий статус населения) и заметную прямую зависимость от RM (кол-во комнат)\n",
    "3. Меньше всего MEDV зависит от CHAS (наличие реки)\n",
    "4. Для моделей Lasso и ElasticNet оказались значимы признаки:\n",
    "    - RM\n",
    "    - DIS (расстояние до центров занятости)\n",
    "    - RAD\n",
    "    - PTRATIO (соотношение учеников и учителей)\n",
    "    - LSTAT\n",
    "5. Для моделей LinearRegression и Ridge оказались значимы признаки:\n",
    "    - CHAS\n",
    "    - NOX (концентрация оксидов азота)\n",
    "    - RM\n",
    "    - DIS\n",
    "    - TAX\n",
    "    - PTRATIO\n",
    "    - LSTAT\n",
    "6. Следующие признаки оказались либо совсем, либо почти не значимы для изученных моделей:\n",
    "    - CRIM (уровень преступности)\n",
    "    - ZN (доля зонированной земли)\n",
    "    - INDUS (акры не для розничной торговли)\n",
    "    - AGE (доля старых домов)\n",
    "    - TAX (налог)\n",
    "    - B (доля чернокожего населения)\n"
   ]
  }
 ],
 "metadata": {
  "kernelspec": {
   "display_name": "local",
   "language": "python",
   "name": "local"
  },
  "language_info": {
   "codemirror_mode": {
    "name": "ipython",
    "version": 3
   },
   "file_extension": ".py",
   "mimetype": "text/x-python",
   "name": "python",
   "nbconvert_exporter": "python",
   "pygments_lexer": "ipython3",
   "version": "3.13.3"
  }
 },
 "nbformat": 4,
 "nbformat_minor": 5
}
