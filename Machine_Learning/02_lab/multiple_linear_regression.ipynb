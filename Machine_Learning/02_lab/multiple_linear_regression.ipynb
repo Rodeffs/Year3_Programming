{
 "cells": [
  {
   "cell_type": "markdown",
   "id": "7f4e8c21-d011-4e52-88f7-ebc7879de6db",
   "metadata": {},
   "source": [
    "# Лабораторная работа № 2. Многомерная линейная регрессия"
   ]
  },
  {
   "cell_type": "code",
   "execution_count": null,
   "id": "c0ffa393-1e87-4993-9a59-f795fd981aae",
   "metadata": {},
   "outputs": [],
   "source": []
  }
 ],
 "metadata": {
  "kernelspec": {
   "display_name": "Python 3 (ipykernel)",
   "language": "python",
   "name": "python3"
  },
  "language_info": {
   "codemirror_mode": {
    "name": "ipython",
    "version": 3
   },
   "file_extension": ".py",
   "mimetype": "text/x-python",
   "name": "python",
   "nbconvert_exporter": "python",
   "pygments_lexer": "ipython3",
   "version": "3.13.3"
  }
 },
 "nbformat": 4,
 "nbformat_minor": 5
}
